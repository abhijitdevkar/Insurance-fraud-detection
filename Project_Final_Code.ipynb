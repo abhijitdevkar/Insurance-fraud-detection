{
  "nbformat": 4,
  "nbformat_minor": 0,
  "metadata": {
    "colab": {
      "name": "Project_Final_Code.ipynb",
      "provenance": [],
      "collapsed_sections": [
        "kNfJvnIE3vY8",
        "P2_IuBr9drig",
        "ZN83qJe94EbF",
        "w0wRTkjqMA49"
      ],
      "toc_visible": true
    },
    "kernelspec": {
      "display_name": "Python 3",
      "language": "python",
      "name": "python3"
    },
    "language_info": {
      "codemirror_mode": {
        "name": "ipython",
        "version": 3
      },
      "file_extension": ".py",
      "mimetype": "text/x-python",
      "name": "python",
      "nbconvert_exporter": "python",
      "pygments_lexer": "ipython3",
      "version": "3.8.5"
    }
  },
  "cells": [
    {
      "cell_type": "markdown",
      "metadata": {
        "id": "K-HGrms33Aia"
      },
      "source": [
        "## Importing The Libraries"
      ]
    },
    {
      "cell_type": "code",
      "metadata": {
        "colab": {
          "base_uri": "https://localhost:8080/"
        },
        "id": "x38UcgZWQI33",
        "outputId": "7a86cc4d-dafb-4aee-a8d5-2036d7a545e9"
      },
      "source": [
        "from google.colab import drive\n",
        "drive.mount('/content/drive')"
      ],
      "execution_count": 1,
      "outputs": [
        {
          "output_type": "stream",
          "text": [
            "Mounted at /content/drive\n"
          ],
          "name": "stdout"
        }
      ]
    },
    {
      "cell_type": "code",
      "metadata": {
        "id": "gb6A_v1H2wdG"
      },
      "source": [
        "import pandas as pd\n",
        "import numpy as np\n",
        "from pandas import set_option\n",
        "import seaborn as sns\n",
        "import matplotlib.pyplot as plt\n",
        "import scipy.stats as stat\n",
        "import pylab\n",
        "import warnings\n",
        "warnings.filterwarnings('ignore')\n",
        "warnings.filterwarnings(action = 'ignore', category = DeprecationWarning)\n",
        "warnings.filterwarnings(action = 'ignore', category = FutureWarning)\n",
        "\n",
        "from sklearn.preprocessing import LabelEncoder\n",
        "from sklearn.ensemble import ExtraTreesClassifier\n"
      ],
      "execution_count": 2,
      "outputs": []
    },
    {
      "cell_type": "markdown",
      "metadata": {
        "id": "kNfJvnIE3vY8"
      },
      "source": [
        "## Load The Dataset"
      ]
    },
    {
      "cell_type": "code",
      "metadata": {
        "colab": {
          "base_uri": "https://localhost:8080/",
          "height": 0
        },
        "id": "l5C9hqZI2wdO",
        "outputId": "4860dd1c-0f53-42d8-97ad-6d63494317ce"
      },
      "source": [
        "df=pd.read_csv('drive/MyDrive/Insurance Dataset.csv')\n",
        "df"
      ],
      "execution_count": 3,
      "outputs": [
        {
          "output_type": "execute_result",
          "data": {
            "text/html": [
              "<div>\n",
              "<style scoped>\n",
              "    .dataframe tbody tr th:only-of-type {\n",
              "        vertical-align: middle;\n",
              "    }\n",
              "\n",
              "    .dataframe tbody tr th {\n",
              "        vertical-align: top;\n",
              "    }\n",
              "\n",
              "    .dataframe thead th {\n",
              "        text-align: right;\n",
              "    }\n",
              "</style>\n",
              "<table border=\"1\" class=\"dataframe\">\n",
              "  <thead>\n",
              "    <tr style=\"text-align: right;\">\n",
              "      <th></th>\n",
              "      <th>Area_Service</th>\n",
              "      <th>Hospital County</th>\n",
              "      <th>Hospital Id</th>\n",
              "      <th>Age</th>\n",
              "      <th>Gender</th>\n",
              "      <th>Cultural_group</th>\n",
              "      <th>ethnicity</th>\n",
              "      <th>Days_spend_hsptl</th>\n",
              "      <th>Admission_type</th>\n",
              "      <th>Home or self care,</th>\n",
              "      <th>ccs_diagnosis_code</th>\n",
              "      <th>ccs_procedure_code</th>\n",
              "      <th>apr_drg_description</th>\n",
              "      <th>Code_illness</th>\n",
              "      <th>Mortality risk</th>\n",
              "      <th>Surg_Description</th>\n",
              "      <th>Weight_baby</th>\n",
              "      <th>Abortion</th>\n",
              "      <th>Emergency dept_yes/No</th>\n",
              "      <th>Tot_charg</th>\n",
              "      <th>Tot_cost</th>\n",
              "      <th>ratio_of_total_costs_to_total_charges</th>\n",
              "      <th>Result</th>\n",
              "      <th>Payment_Typology</th>\n",
              "    </tr>\n",
              "  </thead>\n",
              "  <tbody>\n",
              "    <tr>\n",
              "      <th>0</th>\n",
              "      <td>Western NY</td>\n",
              "      <td>Allegany</td>\n",
              "      <td>37.0</td>\n",
              "      <td>30 to 49</td>\n",
              "      <td>F</td>\n",
              "      <td>White</td>\n",
              "      <td>Not Span/Hispanic</td>\n",
              "      <td>4</td>\n",
              "      <td>Elective</td>\n",
              "      <td>Home or Self Care</td>\n",
              "      <td>122</td>\n",
              "      <td>0</td>\n",
              "      <td>Other pneumonia</td>\n",
              "      <td>1</td>\n",
              "      <td>1.0</td>\n",
              "      <td>Medical</td>\n",
              "      <td>0</td>\n",
              "      <td>N</td>\n",
              "      <td>Y</td>\n",
              "      <td>5511.95</td>\n",
              "      <td>5582.49</td>\n",
              "      <td>1.012798</td>\n",
              "      <td>1</td>\n",
              "      <td>1</td>\n",
              "    </tr>\n",
              "    <tr>\n",
              "      <th>1</th>\n",
              "      <td>Western NY</td>\n",
              "      <td>Allegany</td>\n",
              "      <td>37.0</td>\n",
              "      <td>70 or Older</td>\n",
              "      <td>F</td>\n",
              "      <td>White</td>\n",
              "      <td>Not Span/Hispanic</td>\n",
              "      <td>4</td>\n",
              "      <td>Urgent</td>\n",
              "      <td>Short-term Hospital</td>\n",
              "      <td>197</td>\n",
              "      <td>0</td>\n",
              "      <td>Cellulitis &amp; other skin infections</td>\n",
              "      <td>3</td>\n",
              "      <td>2.0</td>\n",
              "      <td>Medical</td>\n",
              "      <td>0</td>\n",
              "      <td>N</td>\n",
              "      <td>Y</td>\n",
              "      <td>4783.20</td>\n",
              "      <td>5162.82</td>\n",
              "      <td>1.079365</td>\n",
              "      <td>1</td>\n",
              "      <td>1</td>\n",
              "    </tr>\n",
              "    <tr>\n",
              "      <th>2</th>\n",
              "      <td>Western NY</td>\n",
              "      <td>Allegany</td>\n",
              "      <td>37.0</td>\n",
              "      <td>30 to 49</td>\n",
              "      <td>F</td>\n",
              "      <td>White</td>\n",
              "      <td>Not Span/Hispanic</td>\n",
              "      <td>3</td>\n",
              "      <td>Urgent</td>\n",
              "      <td>Home or Self Care</td>\n",
              "      <td>122</td>\n",
              "      <td>0</td>\n",
              "      <td>Other pneumonia</td>\n",
              "      <td>1</td>\n",
              "      <td>1.0</td>\n",
              "      <td>Medical</td>\n",
              "      <td>0</td>\n",
              "      <td>N</td>\n",
              "      <td>Y</td>\n",
              "      <td>3829.15</td>\n",
              "      <td>4056.52</td>\n",
              "      <td>1.059379</td>\n",
              "      <td>1</td>\n",
              "      <td>1</td>\n",
              "    </tr>\n",
              "    <tr>\n",
              "      <th>3</th>\n",
              "      <td>Western NY</td>\n",
              "      <td>Allegany</td>\n",
              "      <td>37.0</td>\n",
              "      <td>0 to 17</td>\n",
              "      <td>F</td>\n",
              "      <td>White</td>\n",
              "      <td>Not Span/Hispanic</td>\n",
              "      <td>1</td>\n",
              "      <td>Urgent</td>\n",
              "      <td>Home or Self Care</td>\n",
              "      <td>122</td>\n",
              "      <td>0</td>\n",
              "      <td>Other pneumonia</td>\n",
              "      <td>1</td>\n",
              "      <td>1.0</td>\n",
              "      <td>Medical</td>\n",
              "      <td>0</td>\n",
              "      <td>N</td>\n",
              "      <td>Y</td>\n",
              "      <td>1108.20</td>\n",
              "      <td>1644.75</td>\n",
              "      <td>1.484167</td>\n",
              "      <td>0</td>\n",
              "      <td>1</td>\n",
              "    </tr>\n",
              "    <tr>\n",
              "      <th>4</th>\n",
              "      <td>Western NY</td>\n",
              "      <td>Allegany</td>\n",
              "      <td>37.0</td>\n",
              "      <td>70 or Older</td>\n",
              "      <td>F</td>\n",
              "      <td>White</td>\n",
              "      <td>Not Span/Hispanic</td>\n",
              "      <td>3</td>\n",
              "      <td>Elective</td>\n",
              "      <td>Home or Self Care</td>\n",
              "      <td>122</td>\n",
              "      <td>0</td>\n",
              "      <td>Other pneumonia</td>\n",
              "      <td>2</td>\n",
              "      <td>3.0</td>\n",
              "      <td>Medical</td>\n",
              "      <td>0</td>\n",
              "      <td>N</td>\n",
              "      <td>Y</td>\n",
              "      <td>3418.18</td>\n",
              "      <td>3370.87</td>\n",
              "      <td>0.986161</td>\n",
              "      <td>1</td>\n",
              "      <td>1</td>\n",
              "    </tr>\n",
              "    <tr>\n",
              "      <th>...</th>\n",
              "      <td>...</td>\n",
              "      <td>...</td>\n",
              "      <td>...</td>\n",
              "      <td>...</td>\n",
              "      <td>...</td>\n",
              "      <td>...</td>\n",
              "      <td>...</td>\n",
              "      <td>...</td>\n",
              "      <td>...</td>\n",
              "      <td>...</td>\n",
              "      <td>...</td>\n",
              "      <td>...</td>\n",
              "      <td>...</td>\n",
              "      <td>...</td>\n",
              "      <td>...</td>\n",
              "      <td>...</td>\n",
              "      <td>...</td>\n",
              "      <td>...</td>\n",
              "      <td>...</td>\n",
              "      <td>...</td>\n",
              "      <td>...</td>\n",
              "      <td>...</td>\n",
              "      <td>...</td>\n",
              "      <td>...</td>\n",
              "    </tr>\n",
              "    <tr>\n",
              "      <th>1048570</th>\n",
              "      <td>New York City</td>\n",
              "      <td>Bronx</td>\n",
              "      <td>1169.0</td>\n",
              "      <td>70 or Older</td>\n",
              "      <td>F</td>\n",
              "      <td>Other Race</td>\n",
              "      <td>Spanish/Hispanic</td>\n",
              "      <td>6</td>\n",
              "      <td>Emergency</td>\n",
              "      <td>Skilled Nursing Home</td>\n",
              "      <td>106</td>\n",
              "      <td>29</td>\n",
              "      <td>Cardiac arrhythmia &amp; conduction disorders</td>\n",
              "      <td>2</td>\n",
              "      <td>3.0</td>\n",
              "      <td>Medical</td>\n",
              "      <td>0</td>\n",
              "      <td>N</td>\n",
              "      <td>Y</td>\n",
              "      <td>69650.41</td>\n",
              "      <td>13896.82</td>\n",
              "      <td>0.199522</td>\n",
              "      <td>1</td>\n",
              "      <td>3</td>\n",
              "    </tr>\n",
              "    <tr>\n",
              "      <th>1048571</th>\n",
              "      <td>New York City</td>\n",
              "      <td>Bronx</td>\n",
              "      <td>1169.0</td>\n",
              "      <td>0 to 17</td>\n",
              "      <td>F</td>\n",
              "      <td>Other Race</td>\n",
              "      <td>Not Span/Hispanic</td>\n",
              "      <td>2</td>\n",
              "      <td>Emergency</td>\n",
              "      <td>Home or Self Care</td>\n",
              "      <td>8</td>\n",
              "      <td>231</td>\n",
              "      <td>Other infectious &amp; parasitic diseases</td>\n",
              "      <td>2</td>\n",
              "      <td>1.0</td>\n",
              "      <td>Medical</td>\n",
              "      <td>0</td>\n",
              "      <td>N</td>\n",
              "      <td>N</td>\n",
              "      <td>13587.38</td>\n",
              "      <td>3918.35</td>\n",
              "      <td>0.288382</td>\n",
              "      <td>1</td>\n",
              "      <td>3</td>\n",
              "    </tr>\n",
              "    <tr>\n",
              "      <th>1048572</th>\n",
              "      <td>New York City</td>\n",
              "      <td>Bronx</td>\n",
              "      <td>1169.0</td>\n",
              "      <td>50 to 69</td>\n",
              "      <td>M</td>\n",
              "      <td>Other Race</td>\n",
              "      <td>Spanish/Hispanic</td>\n",
              "      <td>13</td>\n",
              "      <td>Emergency</td>\n",
              "      <td>Medicare Cert Long Term Care Hospital</td>\n",
              "      <td>151</td>\n",
              "      <td>88</td>\n",
              "      <td>Hepatic coma &amp; other major acute liver disorders</td>\n",
              "      <td>4</td>\n",
              "      <td>4.0</td>\n",
              "      <td>Medical</td>\n",
              "      <td>0</td>\n",
              "      <td>N</td>\n",
              "      <td>Y</td>\n",
              "      <td>104629.78</td>\n",
              "      <td>24746.64</td>\n",
              "      <td>0.236516</td>\n",
              "      <td>0</td>\n",
              "      <td>3</td>\n",
              "    </tr>\n",
              "    <tr>\n",
              "      <th>1048573</th>\n",
              "      <td>New York City</td>\n",
              "      <td>Bronx</td>\n",
              "      <td>1169.0</td>\n",
              "      <td>30 to 49</td>\n",
              "      <td>F</td>\n",
              "      <td>Black/African American</td>\n",
              "      <td>Not Span/Hispanic</td>\n",
              "      <td>2</td>\n",
              "      <td>Emergency</td>\n",
              "      <td>Home or Self Care</td>\n",
              "      <td>143</td>\n",
              "      <td>86</td>\n",
              "      <td>Inguinal, femoral &amp; umbilical hernia procedures</td>\n",
              "      <td>1</td>\n",
              "      <td>1.0</td>\n",
              "      <td>Surgical</td>\n",
              "      <td>0</td>\n",
              "      <td>N</td>\n",
              "      <td>Y</td>\n",
              "      <td>27521.41</td>\n",
              "      <td>6766.04</td>\n",
              "      <td>0.245846</td>\n",
              "      <td>1</td>\n",
              "      <td>3</td>\n",
              "    </tr>\n",
              "    <tr>\n",
              "      <th>1048574</th>\n",
              "      <td>New York City</td>\n",
              "      <td>Bronx</td>\n",
              "      <td>1169.0</td>\n",
              "      <td>50 to 69</td>\n",
              "      <td>M</td>\n",
              "      <td>Other Race</td>\n",
              "      <td>Spanish/Hispanic</td>\n",
              "      <td>2</td>\n",
              "      <td>Emergency</td>\n",
              "      <td>Home or Self Care</td>\n",
              "      <td>106</td>\n",
              "      <td>0</td>\n",
              "      <td>Cardiac arrhythmia &amp; conduction disorders</td>\n",
              "      <td>1</td>\n",
              "      <td>1.0</td>\n",
              "      <td>Medical</td>\n",
              "      <td>0</td>\n",
              "      <td>N</td>\n",
              "      <td>Y</td>\n",
              "      <td>24832.23</td>\n",
              "      <td>4974.66</td>\n",
              "      <td>0.200331</td>\n",
              "      <td>1</td>\n",
              "      <td>2</td>\n",
              "    </tr>\n",
              "  </tbody>\n",
              "</table>\n",
              "<p>1048575 rows × 24 columns</p>\n",
              "</div>"
            ],
            "text/plain": [
              "          Area_Service Hospital County  ...  Result Payment_Typology\n",
              "0           Western NY        Allegany  ...       1                1\n",
              "1           Western NY        Allegany  ...       1                1\n",
              "2           Western NY        Allegany  ...       1                1\n",
              "3           Western NY        Allegany  ...       0                1\n",
              "4           Western NY        Allegany  ...       1                1\n",
              "...                ...             ...  ...     ...              ...\n",
              "1048570  New York City           Bronx  ...       1                3\n",
              "1048571  New York City           Bronx  ...       1                3\n",
              "1048572  New York City           Bronx  ...       0                3\n",
              "1048573  New York City           Bronx  ...       1                3\n",
              "1048574  New York City           Bronx  ...       1                2\n",
              "\n",
              "[1048575 rows x 24 columns]"
            ]
          },
          "metadata": {
            "tags": []
          },
          "execution_count": 3
        }
      ]
    },
    {
      "cell_type": "markdown",
      "metadata": {
        "id": "P2_IuBr9drig"
      },
      "source": [
        "## Summarize Data"
      ]
    },
    {
      "cell_type": "code",
      "metadata": {
        "colab": {
          "base_uri": "https://localhost:8080/"
        },
        "id": "oDcw9EMv2wdQ",
        "outputId": "6569906f-73c0-4001-e87b-a732eb0c9097"
      },
      "source": [
        "df.shape"
      ],
      "execution_count": 4,
      "outputs": [
        {
          "output_type": "execute_result",
          "data": {
            "text/plain": [
              "(1048575, 24)"
            ]
          },
          "metadata": {
            "tags": []
          },
          "execution_count": 4
        }
      ]
    },
    {
      "cell_type": "code",
      "metadata": {
        "colab": {
          "base_uri": "https://localhost:8080/"
        },
        "id": "Sm_qnIfW2wdQ",
        "outputId": "def35673-7ea1-4a5c-9cbe-c9baf055fc5f"
      },
      "source": [
        "df.size"
      ],
      "execution_count": 5,
      "outputs": [
        {
          "output_type": "execute_result",
          "data": {
            "text/plain": [
              "25165800"
            ]
          },
          "metadata": {
            "tags": []
          },
          "execution_count": 5
        }
      ]
    },
    {
      "cell_type": "code",
      "metadata": {
        "colab": {
          "base_uri": "https://localhost:8080/"
        },
        "id": "OAxT8ibb2wdR",
        "scrolled": true,
        "outputId": "0a84adb9-20c2-41cb-e855-1793f5092a5d"
      },
      "source": [
        "#Data type\n",
        "df.info()"
      ],
      "execution_count": 6,
      "outputs": [
        {
          "output_type": "stream",
          "text": [
            "<class 'pandas.core.frame.DataFrame'>\n",
            "RangeIndex: 1048575 entries, 0 to 1048574\n",
            "Data columns (total 24 columns):\n",
            " #   Column                                 Non-Null Count    Dtype  \n",
            "---  ------                                 --------------    -----  \n",
            " 0   Area_Service                           1046119 non-null  object \n",
            " 1   Hospital County                        1046119 non-null  object \n",
            " 2   Hospital Id                            1046119 non-null  float64\n",
            " 3   Age                                    1048575 non-null  object \n",
            " 4   Gender                                 1048575 non-null  object \n",
            " 5   Cultural_group                         1048575 non-null  object \n",
            " 6   ethnicity                              1048575 non-null  object \n",
            " 7   Days_spend_hsptl                       1048575 non-null  object \n",
            " 8   Admission_type                         1048575 non-null  object \n",
            " 9   Home or self care,                     1048575 non-null  object \n",
            " 10  ccs_diagnosis_code                     1048575 non-null  int64  \n",
            " 11  ccs_procedure_code                     1048575 non-null  int64  \n",
            " 12  apr_drg_description                    1048575 non-null  object \n",
            " 13  Code_illness                           1048575 non-null  int64  \n",
            " 14  Mortality risk                         1048533 non-null  float64\n",
            " 15  Surg_Description                       1048575 non-null  object \n",
            " 16  Weight_baby                            1048575 non-null  int64  \n",
            " 17  Abortion                               1048575 non-null  object \n",
            " 18  Emergency dept_yes/No                  1048575 non-null  object \n",
            " 19  Tot_charg                              1048575 non-null  float64\n",
            " 20  Tot_cost                               1048575 non-null  float64\n",
            " 21  ratio_of_total_costs_to_total_charges  1048575 non-null  float64\n",
            " 22  Result                                 1048575 non-null  int64  \n",
            " 23  Payment_Typology                       1048575 non-null  int64  \n",
            "dtypes: float64(5), int64(6), object(13)\n",
            "memory usage: 192.0+ MB\n"
          ],
          "name": "stdout"
        }
      ]
    },
    {
      "cell_type": "code",
      "metadata": {
        "colab": {
          "base_uri": "https://localhost:8080/",
          "height": 0
        },
        "id": "JqrZVDuMdrii",
        "outputId": "7f6d6a4e-0da7-438f-d929-81d9f6840c39"
      },
      "source": [
        "# Descriptive statistics\n",
        "df.describe()"
      ],
      "execution_count": 7,
      "outputs": [
        {
          "output_type": "execute_result",
          "data": {
            "text/html": [
              "<div>\n",
              "<style scoped>\n",
              "    .dataframe tbody tr th:only-of-type {\n",
              "        vertical-align: middle;\n",
              "    }\n",
              "\n",
              "    .dataframe tbody tr th {\n",
              "        vertical-align: top;\n",
              "    }\n",
              "\n",
              "    .dataframe thead th {\n",
              "        text-align: right;\n",
              "    }\n",
              "</style>\n",
              "<table border=\"1\" class=\"dataframe\">\n",
              "  <thead>\n",
              "    <tr style=\"text-align: right;\">\n",
              "      <th></th>\n",
              "      <th>Hospital Id</th>\n",
              "      <th>ccs_diagnosis_code</th>\n",
              "      <th>ccs_procedure_code</th>\n",
              "      <th>Code_illness</th>\n",
              "      <th>Mortality risk</th>\n",
              "      <th>Weight_baby</th>\n",
              "      <th>Tot_charg</th>\n",
              "      <th>Tot_cost</th>\n",
              "      <th>ratio_of_total_costs_to_total_charges</th>\n",
              "      <th>Result</th>\n",
              "      <th>Payment_Typology</th>\n",
              "    </tr>\n",
              "  </thead>\n",
              "  <tbody>\n",
              "    <tr>\n",
              "      <th>count</th>\n",
              "      <td>1.046119e+06</td>\n",
              "      <td>1.048575e+06</td>\n",
              "      <td>1.048575e+06</td>\n",
              "      <td>1.048575e+06</td>\n",
              "      <td>1.048533e+06</td>\n",
              "      <td>1.048575e+06</td>\n",
              "      <td>1.048575e+06</td>\n",
              "      <td>1.048575e+06</td>\n",
              "      <td>1.048575e+06</td>\n",
              "      <td>1.048575e+06</td>\n",
              "      <td>1.048575e+06</td>\n",
              "    </tr>\n",
              "    <tr>\n",
              "      <th>mean</th>\n",
              "      <td>6.529400e+02</td>\n",
              "      <td>1.987936e+02</td>\n",
              "      <td>9.723249e+01</td>\n",
              "      <td>2.051806e+00</td>\n",
              "      <td>1.748955e+00</td>\n",
              "      <td>2.935512e+02</td>\n",
              "      <td>2.708697e+04</td>\n",
              "      <td>1.046399e+04</td>\n",
              "      <td>4.565822e-01</td>\n",
              "      <td>7.499769e-01</td>\n",
              "      <td>1.935755e+00</td>\n",
              "    </tr>\n",
              "    <tr>\n",
              "      <th>std</th>\n",
              "      <td>6.711577e+02</td>\n",
              "      <td>1.652839e+02</td>\n",
              "      <td>8.732697e+01</td>\n",
              "      <td>9.145785e-01</td>\n",
              "      <td>9.864236e-01</td>\n",
              "      <td>9.494631e+02</td>\n",
              "      <td>5.487428e+04</td>\n",
              "      <td>2.230366e+04</td>\n",
              "      <td>8.029246e-01</td>\n",
              "      <td>4.330263e-01</td>\n",
              "      <td>7.717916e-01</td>\n",
              "    </tr>\n",
              "    <tr>\n",
              "      <th>min</th>\n",
              "      <td>1.000000e+00</td>\n",
              "      <td>1.000000e+00</td>\n",
              "      <td>0.000000e+00</td>\n",
              "      <td>0.000000e+00</td>\n",
              "      <td>1.000000e+00</td>\n",
              "      <td>0.000000e+00</td>\n",
              "      <td>3.100000e-01</td>\n",
              "      <td>1.000000e-01</td>\n",
              "      <td>3.312909e-02</td>\n",
              "      <td>0.000000e+00</td>\n",
              "      <td>1.000000e+00</td>\n",
              "    </tr>\n",
              "    <tr>\n",
              "      <th>25%</th>\n",
              "      <td>2.130000e+02</td>\n",
              "      <td>1.080000e+02</td>\n",
              "      <td>0.000000e+00</td>\n",
              "      <td>1.000000e+00</td>\n",
              "      <td>1.000000e+00</td>\n",
              "      <td>0.000000e+00</td>\n",
              "      <td>7.402500e+03</td>\n",
              "      <td>3.234570e+03</td>\n",
              "      <td>3.135802e-01</td>\n",
              "      <td>0.000000e+00</td>\n",
              "      <td>1.000000e+00</td>\n",
              "    </tr>\n",
              "    <tr>\n",
              "      <th>50%</th>\n",
              "      <td>6.300000e+02</td>\n",
              "      <td>1.590000e+02</td>\n",
              "      <td>9.000000e+01</td>\n",
              "      <td>2.000000e+00</td>\n",
              "      <td>1.000000e+00</td>\n",
              "      <td>0.000000e+00</td>\n",
              "      <td>1.458988e+04</td>\n",
              "      <td>5.928480e+03</td>\n",
              "      <td>4.091384e-01</td>\n",
              "      <td>1.000000e+00</td>\n",
              "      <td>2.000000e+00</td>\n",
              "    </tr>\n",
              "    <tr>\n",
              "      <th>75%</th>\n",
              "      <td>9.770000e+02</td>\n",
              "      <td>2.180000e+02</td>\n",
              "      <td>1.740000e+02</td>\n",
              "      <td>3.000000e+00</td>\n",
              "      <td>3.000000e+00</td>\n",
              "      <td>0.000000e+00</td>\n",
              "      <td>2.914547e+04</td>\n",
              "      <td>1.134317e+04</td>\n",
              "      <td>5.192548e-01</td>\n",
              "      <td>1.000000e+00</td>\n",
              "      <td>3.000000e+00</td>\n",
              "    </tr>\n",
              "    <tr>\n",
              "      <th>max</th>\n",
              "      <td>9.250000e+03</td>\n",
              "      <td>6.700000e+02</td>\n",
              "      <td>2.310000e+02</td>\n",
              "      <td>4.000000e+00</td>\n",
              "      <td>4.000000e+00</td>\n",
              "      <td>9.000000e+03</td>\n",
              "      <td>6.196974e+06</td>\n",
              "      <td>2.562478e+06</td>\n",
              "      <td>1.575596e+02</td>\n",
              "      <td>1.000000e+00</td>\n",
              "      <td>5.000000e+00</td>\n",
              "    </tr>\n",
              "  </tbody>\n",
              "</table>\n",
              "</div>"
            ],
            "text/plain": [
              "        Hospital Id  ccs_diagnosis_code  ...        Result  Payment_Typology\n",
              "count  1.046119e+06        1.048575e+06  ...  1.048575e+06      1.048575e+06\n",
              "mean   6.529400e+02        1.987936e+02  ...  7.499769e-01      1.935755e+00\n",
              "std    6.711577e+02        1.652839e+02  ...  4.330263e-01      7.717916e-01\n",
              "min    1.000000e+00        1.000000e+00  ...  0.000000e+00      1.000000e+00\n",
              "25%    2.130000e+02        1.080000e+02  ...  0.000000e+00      1.000000e+00\n",
              "50%    6.300000e+02        1.590000e+02  ...  1.000000e+00      2.000000e+00\n",
              "75%    9.770000e+02        2.180000e+02  ...  1.000000e+00      3.000000e+00\n",
              "max    9.250000e+03        6.700000e+02  ...  1.000000e+00      5.000000e+00\n",
              "\n",
              "[8 rows x 11 columns]"
            ]
          },
          "metadata": {
            "tags": []
          },
          "execution_count": 7
        }
      ]
    },
    {
      "cell_type": "code",
      "metadata": {
        "colab": {
          "base_uri": "https://localhost:8080/"
        },
        "id": "vYo-oh9Ydrii",
        "outputId": "413a55ff-bf12-4765-96de-c2ed2ef15415"
      },
      "source": [
        "# Class proportion\n",
        "result_counts = df.groupby('Result').size()\n",
        "print(result_counts)"
      ],
      "execution_count": 8,
      "outputs": [
        {
          "output_type": "stream",
          "text": [
            "Result\n",
            "0    262168\n",
            "1    786407\n",
            "dtype: int64\n"
          ],
          "name": "stdout"
        }
      ]
    },
    {
      "cell_type": "markdown",
      "metadata": {
        "id": "Mgz00qSmGt9e"
      },
      "source": [
        "### Remove Unnecesary Column"
      ]
    },
    {
      "cell_type": "code",
      "metadata": {
        "id": "6ETBSq8PEPqE"
      },
      "source": [
        "df1=df.drop(['Hospital Id','Area_Service','Cultural_group','ethnicity','Abortion','Tot_cost','Weight_baby'],axis=1)"
      ],
      "execution_count": 9,
      "outputs": []
    },
    {
      "cell_type": "code",
      "metadata": {
        "id": "nzttOEbdm-1W"
      },
      "source": [
        "df1 = df1.rename({ 'Hospital County':'Hospital_County','Mortality risk': 'mortalityrisk','ratio_of_total_costs_to_total_charges':'ratio_ofcost_to_charge','Home or self care,':'home_or_selfcare','Emergency dept_yes/No':'emergency_dept' }, axis=1)"
      ],
      "execution_count": 10,
      "outputs": []
    },
    {
      "cell_type": "code",
      "metadata": {
        "colab": {
          "base_uri": "https://localhost:8080/",
          "height": 0
        },
        "id": "8Yqm9m-kpPBN",
        "outputId": "bffd4eba-62b5-439e-eaff-4841c713b8ab"
      },
      "source": [
        "df1.head()"
      ],
      "execution_count": 11,
      "outputs": [
        {
          "output_type": "execute_result",
          "data": {
            "text/html": [
              "<div>\n",
              "<style scoped>\n",
              "    .dataframe tbody tr th:only-of-type {\n",
              "        vertical-align: middle;\n",
              "    }\n",
              "\n",
              "    .dataframe tbody tr th {\n",
              "        vertical-align: top;\n",
              "    }\n",
              "\n",
              "    .dataframe thead th {\n",
              "        text-align: right;\n",
              "    }\n",
              "</style>\n",
              "<table border=\"1\" class=\"dataframe\">\n",
              "  <thead>\n",
              "    <tr style=\"text-align: right;\">\n",
              "      <th></th>\n",
              "      <th>Hospital_County</th>\n",
              "      <th>Age</th>\n",
              "      <th>Gender</th>\n",
              "      <th>Days_spend_hsptl</th>\n",
              "      <th>Admission_type</th>\n",
              "      <th>home_or_selfcare</th>\n",
              "      <th>ccs_diagnosis_code</th>\n",
              "      <th>ccs_procedure_code</th>\n",
              "      <th>apr_drg_description</th>\n",
              "      <th>Code_illness</th>\n",
              "      <th>mortalityrisk</th>\n",
              "      <th>Surg_Description</th>\n",
              "      <th>emergency_dept</th>\n",
              "      <th>Tot_charg</th>\n",
              "      <th>ratio_ofcost_to_charge</th>\n",
              "      <th>Result</th>\n",
              "      <th>Payment_Typology</th>\n",
              "    </tr>\n",
              "  </thead>\n",
              "  <tbody>\n",
              "    <tr>\n",
              "      <th>0</th>\n",
              "      <td>Allegany</td>\n",
              "      <td>30 to 49</td>\n",
              "      <td>F</td>\n",
              "      <td>4</td>\n",
              "      <td>Elective</td>\n",
              "      <td>Home or Self Care</td>\n",
              "      <td>122</td>\n",
              "      <td>0</td>\n",
              "      <td>Other pneumonia</td>\n",
              "      <td>1</td>\n",
              "      <td>1.0</td>\n",
              "      <td>Medical</td>\n",
              "      <td>Y</td>\n",
              "      <td>5511.95</td>\n",
              "      <td>1.012798</td>\n",
              "      <td>1</td>\n",
              "      <td>1</td>\n",
              "    </tr>\n",
              "    <tr>\n",
              "      <th>1</th>\n",
              "      <td>Allegany</td>\n",
              "      <td>70 or Older</td>\n",
              "      <td>F</td>\n",
              "      <td>4</td>\n",
              "      <td>Urgent</td>\n",
              "      <td>Short-term Hospital</td>\n",
              "      <td>197</td>\n",
              "      <td>0</td>\n",
              "      <td>Cellulitis &amp; other skin infections</td>\n",
              "      <td>3</td>\n",
              "      <td>2.0</td>\n",
              "      <td>Medical</td>\n",
              "      <td>Y</td>\n",
              "      <td>4783.20</td>\n",
              "      <td>1.079365</td>\n",
              "      <td>1</td>\n",
              "      <td>1</td>\n",
              "    </tr>\n",
              "    <tr>\n",
              "      <th>2</th>\n",
              "      <td>Allegany</td>\n",
              "      <td>30 to 49</td>\n",
              "      <td>F</td>\n",
              "      <td>3</td>\n",
              "      <td>Urgent</td>\n",
              "      <td>Home or Self Care</td>\n",
              "      <td>122</td>\n",
              "      <td>0</td>\n",
              "      <td>Other pneumonia</td>\n",
              "      <td>1</td>\n",
              "      <td>1.0</td>\n",
              "      <td>Medical</td>\n",
              "      <td>Y</td>\n",
              "      <td>3829.15</td>\n",
              "      <td>1.059379</td>\n",
              "      <td>1</td>\n",
              "      <td>1</td>\n",
              "    </tr>\n",
              "    <tr>\n",
              "      <th>3</th>\n",
              "      <td>Allegany</td>\n",
              "      <td>0 to 17</td>\n",
              "      <td>F</td>\n",
              "      <td>1</td>\n",
              "      <td>Urgent</td>\n",
              "      <td>Home or Self Care</td>\n",
              "      <td>122</td>\n",
              "      <td>0</td>\n",
              "      <td>Other pneumonia</td>\n",
              "      <td>1</td>\n",
              "      <td>1.0</td>\n",
              "      <td>Medical</td>\n",
              "      <td>Y</td>\n",
              "      <td>1108.20</td>\n",
              "      <td>1.484167</td>\n",
              "      <td>0</td>\n",
              "      <td>1</td>\n",
              "    </tr>\n",
              "    <tr>\n",
              "      <th>4</th>\n",
              "      <td>Allegany</td>\n",
              "      <td>70 or Older</td>\n",
              "      <td>F</td>\n",
              "      <td>3</td>\n",
              "      <td>Elective</td>\n",
              "      <td>Home or Self Care</td>\n",
              "      <td>122</td>\n",
              "      <td>0</td>\n",
              "      <td>Other pneumonia</td>\n",
              "      <td>2</td>\n",
              "      <td>3.0</td>\n",
              "      <td>Medical</td>\n",
              "      <td>Y</td>\n",
              "      <td>3418.18</td>\n",
              "      <td>0.986161</td>\n",
              "      <td>1</td>\n",
              "      <td>1</td>\n",
              "    </tr>\n",
              "  </tbody>\n",
              "</table>\n",
              "</div>"
            ],
            "text/plain": [
              "  Hospital_County          Age  ... Result Payment_Typology\n",
              "0        Allegany     30 to 49  ...      1                1\n",
              "1        Allegany  70 or Older  ...      1                1\n",
              "2        Allegany     30 to 49  ...      1                1\n",
              "3        Allegany      0 to 17  ...      0                1\n",
              "4        Allegany  70 or Older  ...      1                1\n",
              "\n",
              "[5 rows x 17 columns]"
            ]
          },
          "metadata": {
            "tags": []
          },
          "execution_count": 11
        }
      ]
    },
    {
      "cell_type": "code",
      "metadata": {
        "colab": {
          "base_uri": "https://localhost:8080/"
        },
        "id": "NBRBGB65EPqE",
        "outputId": "ae33eaa6-15bc-40e6-8a7f-4d0307cacdcc"
      },
      "source": [
        "df1.shape"
      ],
      "execution_count": 12,
      "outputs": [
        {
          "output_type": "execute_result",
          "data": {
            "text/plain": [
              "(1048575, 17)"
            ]
          },
          "metadata": {
            "tags": []
          },
          "execution_count": 12
        }
      ]
    },
    {
      "cell_type": "markdown",
      "metadata": {
        "id": "ZN83qJe94EbF"
      },
      "source": [
        "## Duplicates"
      ]
    },
    {
      "cell_type": "code",
      "metadata": {
        "colab": {
          "base_uri": "https://localhost:8080/"
        },
        "id": "1-bJ2TVd2wdR",
        "scrolled": true,
        "outputId": "998d52dd-6196-4639-a4bf-5c6e13adf4e1"
      },
      "source": [
        "#Count of duplicated rows\n",
        "df1[df1.duplicated()].shape\n"
      ],
      "execution_count": 13,
      "outputs": [
        {
          "output_type": "execute_result",
          "data": {
            "text/plain": [
              "(21686, 17)"
            ]
          },
          "metadata": {
            "tags": []
          },
          "execution_count": 13
        }
      ]
    },
    {
      "cell_type": "code",
      "metadata": {
        "colab": {
          "base_uri": "https://localhost:8080/",
          "height": 0
        },
        "id": "oAsU3g9x2wdS",
        "outputId": "4bd97627-a386-4ff1-f4a5-febf5dc3beb2"
      },
      "source": [
        "#Print the duplicated rows\n",
        "df1[df1.duplicated()]"
      ],
      "execution_count": 14,
      "outputs": [
        {
          "output_type": "execute_result",
          "data": {
            "text/html": [
              "<div>\n",
              "<style scoped>\n",
              "    .dataframe tbody tr th:only-of-type {\n",
              "        vertical-align: middle;\n",
              "    }\n",
              "\n",
              "    .dataframe tbody tr th {\n",
              "        vertical-align: top;\n",
              "    }\n",
              "\n",
              "    .dataframe thead th {\n",
              "        text-align: right;\n",
              "    }\n",
              "</style>\n",
              "<table border=\"1\" class=\"dataframe\">\n",
              "  <thead>\n",
              "    <tr style=\"text-align: right;\">\n",
              "      <th></th>\n",
              "      <th>Hospital_County</th>\n",
              "      <th>Age</th>\n",
              "      <th>Gender</th>\n",
              "      <th>Days_spend_hsptl</th>\n",
              "      <th>Admission_type</th>\n",
              "      <th>home_or_selfcare</th>\n",
              "      <th>ccs_diagnosis_code</th>\n",
              "      <th>ccs_procedure_code</th>\n",
              "      <th>apr_drg_description</th>\n",
              "      <th>Code_illness</th>\n",
              "      <th>mortalityrisk</th>\n",
              "      <th>Surg_Description</th>\n",
              "      <th>emergency_dept</th>\n",
              "      <th>Tot_charg</th>\n",
              "      <th>ratio_ofcost_to_charge</th>\n",
              "      <th>Result</th>\n",
              "      <th>Payment_Typology</th>\n",
              "    </tr>\n",
              "  </thead>\n",
              "  <tbody>\n",
              "    <tr>\n",
              "      <th>271</th>\n",
              "      <td>Allegany</td>\n",
              "      <td>0 to 17</td>\n",
              "      <td>M</td>\n",
              "      <td>3</td>\n",
              "      <td>Newborn</td>\n",
              "      <td>Home or Self Care</td>\n",
              "      <td>218</td>\n",
              "      <td>115</td>\n",
              "      <td>Neonate birthwt &gt;2499g, normal newborn or neon...</td>\n",
              "      <td>1</td>\n",
              "      <td>1.0</td>\n",
              "      <td>Medical</td>\n",
              "      <td>N</td>\n",
              "      <td>2319.75</td>\n",
              "      <td>0.434788</td>\n",
              "      <td>0</td>\n",
              "      <td>1</td>\n",
              "    </tr>\n",
              "    <tr>\n",
              "      <th>291</th>\n",
              "      <td>Allegany</td>\n",
              "      <td>0 to 17</td>\n",
              "      <td>F</td>\n",
              "      <td>1</td>\n",
              "      <td>Newborn</td>\n",
              "      <td>Home or Self Care</td>\n",
              "      <td>218</td>\n",
              "      <td>228</td>\n",
              "      <td>Neonate birthwt &gt;2499g, normal newborn or neon...</td>\n",
              "      <td>1</td>\n",
              "      <td>1.0</td>\n",
              "      <td>Medical</td>\n",
              "      <td>N</td>\n",
              "      <td>884.50</td>\n",
              "      <td>0.436447</td>\n",
              "      <td>1</td>\n",
              "      <td>1</td>\n",
              "    </tr>\n",
              "    <tr>\n",
              "      <th>352</th>\n",
              "      <td>Allegany</td>\n",
              "      <td>0 to 17</td>\n",
              "      <td>F</td>\n",
              "      <td>1</td>\n",
              "      <td>Newborn</td>\n",
              "      <td>Home or Self Care</td>\n",
              "      <td>218</td>\n",
              "      <td>228</td>\n",
              "      <td>Neonate birthwt &gt;2499g, normal newborn or neon...</td>\n",
              "      <td>1</td>\n",
              "      <td>1.0</td>\n",
              "      <td>Medical</td>\n",
              "      <td>N</td>\n",
              "      <td>884.50</td>\n",
              "      <td>0.436447</td>\n",
              "      <td>1</td>\n",
              "      <td>1</td>\n",
              "    </tr>\n",
              "    <tr>\n",
              "      <th>502</th>\n",
              "      <td>Allegany</td>\n",
              "      <td>0 to 17</td>\n",
              "      <td>M</td>\n",
              "      <td>3</td>\n",
              "      <td>Newborn</td>\n",
              "      <td>Home or Self Care</td>\n",
              "      <td>218</td>\n",
              "      <td>115</td>\n",
              "      <td>Neonate birthwt &gt;2499g, normal newborn or neon...</td>\n",
              "      <td>1</td>\n",
              "      <td>1.0</td>\n",
              "      <td>Medical</td>\n",
              "      <td>N</td>\n",
              "      <td>2319.75</td>\n",
              "      <td>0.434788</td>\n",
              "      <td>1</td>\n",
              "      <td>1</td>\n",
              "    </tr>\n",
              "    <tr>\n",
              "      <th>533</th>\n",
              "      <td>Allegany</td>\n",
              "      <td>0 to 17</td>\n",
              "      <td>F</td>\n",
              "      <td>2</td>\n",
              "      <td>Newborn</td>\n",
              "      <td>Home or Self Care</td>\n",
              "      <td>218</td>\n",
              "      <td>228</td>\n",
              "      <td>Neonate birthwt &gt;2499g, normal newborn or neon...</td>\n",
              "      <td>1</td>\n",
              "      <td>1.0</td>\n",
              "      <td>Medical</td>\n",
              "      <td>N</td>\n",
              "      <td>1401.50</td>\n",
              "      <td>0.431629</td>\n",
              "      <td>1</td>\n",
              "      <td>1</td>\n",
              "    </tr>\n",
              "    <tr>\n",
              "      <th>...</th>\n",
              "      <td>...</td>\n",
              "      <td>...</td>\n",
              "      <td>...</td>\n",
              "      <td>...</td>\n",
              "      <td>...</td>\n",
              "      <td>...</td>\n",
              "      <td>...</td>\n",
              "      <td>...</td>\n",
              "      <td>...</td>\n",
              "      <td>...</td>\n",
              "      <td>...</td>\n",
              "      <td>...</td>\n",
              "      <td>...</td>\n",
              "      <td>...</td>\n",
              "      <td>...</td>\n",
              "      <td>...</td>\n",
              "      <td>...</td>\n",
              "    </tr>\n",
              "    <tr>\n",
              "      <th>1028997</th>\n",
              "      <td>Bronx</td>\n",
              "      <td>0 to 17</td>\n",
              "      <td>F</td>\n",
              "      <td>2</td>\n",
              "      <td>Elective</td>\n",
              "      <td>Home or Self Care</td>\n",
              "      <td>83</td>\n",
              "      <td>227</td>\n",
              "      <td>Seizure</td>\n",
              "      <td>1</td>\n",
              "      <td>1.0</td>\n",
              "      <td>Medical</td>\n",
              "      <td>N</td>\n",
              "      <td>12557.00</td>\n",
              "      <td>0.235996</td>\n",
              "      <td>1</td>\n",
              "      <td>2</td>\n",
              "    </tr>\n",
              "    <tr>\n",
              "      <th>1035973</th>\n",
              "      <td>Bronx</td>\n",
              "      <td>0 to 17</td>\n",
              "      <td>F</td>\n",
              "      <td>2</td>\n",
              "      <td>Elective</td>\n",
              "      <td>Home or Self Care</td>\n",
              "      <td>83</td>\n",
              "      <td>227</td>\n",
              "      <td>Seizure</td>\n",
              "      <td>2</td>\n",
              "      <td>1.0</td>\n",
              "      <td>Medical</td>\n",
              "      <td>N</td>\n",
              "      <td>12500.00</td>\n",
              "      <td>0.236809</td>\n",
              "      <td>1</td>\n",
              "      <td>3</td>\n",
              "    </tr>\n",
              "    <tr>\n",
              "      <th>1043713</th>\n",
              "      <td>Bronx</td>\n",
              "      <td>0 to 17</td>\n",
              "      <td>M</td>\n",
              "      <td>10</td>\n",
              "      <td>Emergency</td>\n",
              "      <td>Home or Self Care</td>\n",
              "      <td>135</td>\n",
              "      <td>0</td>\n",
              "      <td>Other gastroenteritis, nausa &amp; vomiting</td>\n",
              "      <td>3</td>\n",
              "      <td>3.0</td>\n",
              "      <td>Medical</td>\n",
              "      <td>Y</td>\n",
              "      <td>65223.50</td>\n",
              "      <td>0.304385</td>\n",
              "      <td>0</td>\n",
              "      <td>3</td>\n",
              "    </tr>\n",
              "    <tr>\n",
              "      <th>1044547</th>\n",
              "      <td>Bronx</td>\n",
              "      <td>0 to 17</td>\n",
              "      <td>M</td>\n",
              "      <td>4</td>\n",
              "      <td>Elective</td>\n",
              "      <td>Home or Self Care</td>\n",
              "      <td>83</td>\n",
              "      <td>227</td>\n",
              "      <td>Seizure</td>\n",
              "      <td>1</td>\n",
              "      <td>1.0</td>\n",
              "      <td>Medical</td>\n",
              "      <td>N</td>\n",
              "      <td>24557.00</td>\n",
              "      <td>0.240041</td>\n",
              "      <td>1</td>\n",
              "      <td>2</td>\n",
              "    </tr>\n",
              "    <tr>\n",
              "      <th>1046990</th>\n",
              "      <td>Bronx</td>\n",
              "      <td>0 to 17</td>\n",
              "      <td>M</td>\n",
              "      <td>2</td>\n",
              "      <td>Elective</td>\n",
              "      <td>Home or Self Care</td>\n",
              "      <td>83</td>\n",
              "      <td>227</td>\n",
              "      <td>Seizure</td>\n",
              "      <td>2</td>\n",
              "      <td>1.0</td>\n",
              "      <td>Medical</td>\n",
              "      <td>N</td>\n",
              "      <td>12557.00</td>\n",
              "      <td>0.235996</td>\n",
              "      <td>1</td>\n",
              "      <td>3</td>\n",
              "    </tr>\n",
              "  </tbody>\n",
              "</table>\n",
              "<p>21686 rows × 17 columns</p>\n",
              "</div>"
            ],
            "text/plain": [
              "        Hospital_County      Age  ... Result Payment_Typology\n",
              "271            Allegany  0 to 17  ...      0                1\n",
              "291            Allegany  0 to 17  ...      1                1\n",
              "352            Allegany  0 to 17  ...      1                1\n",
              "502            Allegany  0 to 17  ...      1                1\n",
              "533            Allegany  0 to 17  ...      1                1\n",
              "...                 ...      ...  ...    ...              ...\n",
              "1028997           Bronx  0 to 17  ...      1                2\n",
              "1035973           Bronx  0 to 17  ...      1                3\n",
              "1043713           Bronx  0 to 17  ...      0                3\n",
              "1044547           Bronx  0 to 17  ...      1                2\n",
              "1046990           Bronx  0 to 17  ...      1                3\n",
              "\n",
              "[21686 rows x 17 columns]"
            ]
          },
          "metadata": {
            "tags": []
          },
          "execution_count": 14
        }
      ]
    },
    {
      "cell_type": "code",
      "metadata": {
        "id": "txubGT4L2wdT"
      },
      "source": [
        "#remove the duplicated rows\n",
        "data=df1.drop_duplicates()"
      ],
      "execution_count": 15,
      "outputs": []
    },
    {
      "cell_type": "code",
      "metadata": {
        "colab": {
          "base_uri": "https://localhost:8080/"
        },
        "id": "i9BnJrCP2wdT",
        "outputId": "33fb6055-16e2-47cd-fda3-d7ccb53688a1"
      },
      "source": [
        "data.size"
      ],
      "execution_count": 16,
      "outputs": [
        {
          "output_type": "execute_result",
          "data": {
            "text/plain": [
              "17457113"
            ]
          },
          "metadata": {
            "tags": []
          },
          "execution_count": 16
        }
      ]
    },
    {
      "cell_type": "markdown",
      "metadata": {
        "id": "MEGFOptJF2bR"
      },
      "source": [
        "## Missing Values"
      ]
    },
    {
      "cell_type": "code",
      "metadata": {
        "colab": {
          "base_uri": "https://localhost:8080/",
          "height": 640
        },
        "id": "WC8g2s5-2wdT",
        "outputId": "0e55bc40-07c6-4a2c-9dce-2e6ab240e613"
      },
      "source": [
        "data[data.isnull().any(axis=1)]"
      ],
      "execution_count": 17,
      "outputs": [
        {
          "output_type": "execute_result",
          "data": {
            "text/html": [
              "<div>\n",
              "<style scoped>\n",
              "    .dataframe tbody tr th:only-of-type {\n",
              "        vertical-align: middle;\n",
              "    }\n",
              "\n",
              "    .dataframe tbody tr th {\n",
              "        vertical-align: top;\n",
              "    }\n",
              "\n",
              "    .dataframe thead th {\n",
              "        text-align: right;\n",
              "    }\n",
              "</style>\n",
              "<table border=\"1\" class=\"dataframe\">\n",
              "  <thead>\n",
              "    <tr style=\"text-align: right;\">\n",
              "      <th></th>\n",
              "      <th>Hospital_County</th>\n",
              "      <th>Age</th>\n",
              "      <th>Gender</th>\n",
              "      <th>Days_spend_hsptl</th>\n",
              "      <th>Admission_type</th>\n",
              "      <th>home_or_selfcare</th>\n",
              "      <th>ccs_diagnosis_code</th>\n",
              "      <th>ccs_procedure_code</th>\n",
              "      <th>apr_drg_description</th>\n",
              "      <th>Code_illness</th>\n",
              "      <th>mortalityrisk</th>\n",
              "      <th>Surg_Description</th>\n",
              "      <th>emergency_dept</th>\n",
              "      <th>Tot_charg</th>\n",
              "      <th>ratio_ofcost_to_charge</th>\n",
              "      <th>Result</th>\n",
              "      <th>Payment_Typology</th>\n",
              "    </tr>\n",
              "  </thead>\n",
              "  <tbody>\n",
              "    <tr>\n",
              "      <th>12</th>\n",
              "      <td>NaN</td>\n",
              "      <td>30 to 49</td>\n",
              "      <td>M</td>\n",
              "      <td>2</td>\n",
              "      <td>Elective</td>\n",
              "      <td>Home or Self Care</td>\n",
              "      <td>126</td>\n",
              "      <td>0</td>\n",
              "      <td>Infections of upper respiratory tract</td>\n",
              "      <td>3</td>\n",
              "      <td>3.0</td>\n",
              "      <td>Medical</td>\n",
              "      <td>Y</td>\n",
              "      <td>2896.70</td>\n",
              "      <td>1.323580</td>\n",
              "      <td>1</td>\n",
              "      <td>1</td>\n",
              "    </tr>\n",
              "    <tr>\n",
              "      <th>16</th>\n",
              "      <td>NaN</td>\n",
              "      <td>30 to 49</td>\n",
              "      <td>M</td>\n",
              "      <td>3</td>\n",
              "      <td>Urgent</td>\n",
              "      <td>Home or Self Care</td>\n",
              "      <td>126</td>\n",
              "      <td>0</td>\n",
              "      <td>Infections of upper respiratory tract</td>\n",
              "      <td>1</td>\n",
              "      <td>1.0</td>\n",
              "      <td>Medical</td>\n",
              "      <td>Y</td>\n",
              "      <td>3472.25</td>\n",
              "      <td>1.172107</td>\n",
              "      <td>1</td>\n",
              "      <td>1</td>\n",
              "    </tr>\n",
              "    <tr>\n",
              "      <th>33</th>\n",
              "      <td>NaN</td>\n",
              "      <td>70 or Older</td>\n",
              "      <td>F</td>\n",
              "      <td>1</td>\n",
              "      <td>Urgent</td>\n",
              "      <td>Home or Self Care</td>\n",
              "      <td>122</td>\n",
              "      <td>0</td>\n",
              "      <td>Other pneumonia</td>\n",
              "      <td>2</td>\n",
              "      <td>3.0</td>\n",
              "      <td>Medical</td>\n",
              "      <td>Y</td>\n",
              "      <td>2509.75</td>\n",
              "      <td>1.050590</td>\n",
              "      <td>1</td>\n",
              "      <td>1</td>\n",
              "    </tr>\n",
              "    <tr>\n",
              "      <th>77</th>\n",
              "      <td>NaN</td>\n",
              "      <td>70 or Older</td>\n",
              "      <td>F</td>\n",
              "      <td>3</td>\n",
              "      <td>Elective</td>\n",
              "      <td>Skilled Nursing Home</td>\n",
              "      <td>58</td>\n",
              "      <td>202</td>\n",
              "      <td>Malnutrition, failure to thrive &amp; other nutrit...</td>\n",
              "      <td>3</td>\n",
              "      <td>2.0</td>\n",
              "      <td>Medical</td>\n",
              "      <td>N</td>\n",
              "      <td>2998.00</td>\n",
              "      <td>1.072593</td>\n",
              "      <td>1</td>\n",
              "      <td>2</td>\n",
              "    </tr>\n",
              "    <tr>\n",
              "      <th>86</th>\n",
              "      <td>NaN</td>\n",
              "      <td>30 to 49</td>\n",
              "      <td>F</td>\n",
              "      <td>4</td>\n",
              "      <td>Elective</td>\n",
              "      <td>Home or Self Care</td>\n",
              "      <td>159</td>\n",
              "      <td>0</td>\n",
              "      <td>Kidney &amp; urinary tract infections</td>\n",
              "      <td>2</td>\n",
              "      <td>1.0</td>\n",
              "      <td>Medical</td>\n",
              "      <td>Y</td>\n",
              "      <td>4806.25</td>\n",
              "      <td>1.087221</td>\n",
              "      <td>1</td>\n",
              "      <td>1</td>\n",
              "    </tr>\n",
              "    <tr>\n",
              "      <th>...</th>\n",
              "      <td>...</td>\n",
              "      <td>...</td>\n",
              "      <td>...</td>\n",
              "      <td>...</td>\n",
              "      <td>...</td>\n",
              "      <td>...</td>\n",
              "      <td>...</td>\n",
              "      <td>...</td>\n",
              "      <td>...</td>\n",
              "      <td>...</td>\n",
              "      <td>...</td>\n",
              "      <td>...</td>\n",
              "      <td>...</td>\n",
              "      <td>...</td>\n",
              "      <td>...</td>\n",
              "      <td>...</td>\n",
              "      <td>...</td>\n",
              "    </tr>\n",
              "    <tr>\n",
              "      <th>1044288</th>\n",
              "      <td>NaN</td>\n",
              "      <td>18 to 29</td>\n",
              "      <td>F</td>\n",
              "      <td>1</td>\n",
              "      <td>Emergency</td>\n",
              "      <td>Home or Self Care</td>\n",
              "      <td>180</td>\n",
              "      <td>122</td>\n",
              "      <td>Ectopic pregnancy procedure</td>\n",
              "      <td>1</td>\n",
              "      <td>1.0</td>\n",
              "      <td>Surgical</td>\n",
              "      <td>Y</td>\n",
              "      <td>11398.46</td>\n",
              "      <td>0.196141</td>\n",
              "      <td>0</td>\n",
              "      <td>2</td>\n",
              "    </tr>\n",
              "    <tr>\n",
              "      <th>1044417</th>\n",
              "      <td>NaN</td>\n",
              "      <td>30 to 49</td>\n",
              "      <td>F</td>\n",
              "      <td>1</td>\n",
              "      <td>Emergency</td>\n",
              "      <td>Home or Self Care</td>\n",
              "      <td>177</td>\n",
              "      <td>127</td>\n",
              "      <td>D&amp;C, aspiration curettage or hysterotomy for o...</td>\n",
              "      <td>1</td>\n",
              "      <td>1.0</td>\n",
              "      <td>Surgical</td>\n",
              "      <td>Y</td>\n",
              "      <td>20093.35</td>\n",
              "      <td>0.232213</td>\n",
              "      <td>1</td>\n",
              "      <td>2</td>\n",
              "    </tr>\n",
              "    <tr>\n",
              "      <th>1044832</th>\n",
              "      <td>NaN</td>\n",
              "      <td>18 to 29</td>\n",
              "      <td>F</td>\n",
              "      <td>1</td>\n",
              "      <td>Emergency</td>\n",
              "      <td>Home or Self Care</td>\n",
              "      <td>180</td>\n",
              "      <td>122</td>\n",
              "      <td>Ectopic pregnancy procedure</td>\n",
              "      <td>1</td>\n",
              "      <td>1.0</td>\n",
              "      <td>Surgical</td>\n",
              "      <td>Y</td>\n",
              "      <td>9393.39</td>\n",
              "      <td>0.204617</td>\n",
              "      <td>1</td>\n",
              "      <td>3</td>\n",
              "    </tr>\n",
              "    <tr>\n",
              "      <th>1045584</th>\n",
              "      <td>NaN</td>\n",
              "      <td>30 to 49</td>\n",
              "      <td>F</td>\n",
              "      <td>1</td>\n",
              "      <td>Emergency</td>\n",
              "      <td>Home or Self Care</td>\n",
              "      <td>177</td>\n",
              "      <td>127</td>\n",
              "      <td>D&amp;C, aspiration curettage or hysterotomy for o...</td>\n",
              "      <td>1</td>\n",
              "      <td>1.0</td>\n",
              "      <td>Surgical</td>\n",
              "      <td>Y</td>\n",
              "      <td>23802.40</td>\n",
              "      <td>0.248288</td>\n",
              "      <td>0</td>\n",
              "      <td>2</td>\n",
              "    </tr>\n",
              "    <tr>\n",
              "      <th>1045883</th>\n",
              "      <td>NaN</td>\n",
              "      <td>18 to 29</td>\n",
              "      <td>F</td>\n",
              "      <td>1</td>\n",
              "      <td>Emergency</td>\n",
              "      <td>Home or Self Care</td>\n",
              "      <td>178</td>\n",
              "      <td>126</td>\n",
              "      <td>D&amp;C, aspiration curettage or hysterotomy for o...</td>\n",
              "      <td>1</td>\n",
              "      <td>1.0</td>\n",
              "      <td>Surgical</td>\n",
              "      <td>Y</td>\n",
              "      <td>10542.28</td>\n",
              "      <td>0.218938</td>\n",
              "      <td>1</td>\n",
              "      <td>3</td>\n",
              "    </tr>\n",
              "  </tbody>\n",
              "</table>\n",
              "<p>2494 rows × 17 columns</p>\n",
              "</div>"
            ],
            "text/plain": [
              "        Hospital_County          Age  ... Result Payment_Typology\n",
              "12                  NaN     30 to 49  ...      1                1\n",
              "16                  NaN     30 to 49  ...      1                1\n",
              "33                  NaN  70 or Older  ...      1                1\n",
              "77                  NaN  70 or Older  ...      1                2\n",
              "86                  NaN     30 to 49  ...      1                1\n",
              "...                 ...          ...  ...    ...              ...\n",
              "1044288             NaN     18 to 29  ...      0                2\n",
              "1044417             NaN     30 to 49  ...      1                2\n",
              "1044832             NaN     18 to 29  ...      1                3\n",
              "1045584             NaN     30 to 49  ...      0                2\n",
              "1045883             NaN     18 to 29  ...      1                3\n",
              "\n",
              "[2494 rows x 17 columns]"
            ]
          },
          "metadata": {
            "tags": []
          },
          "execution_count": 17
        }
      ]
    },
    {
      "cell_type": "code",
      "metadata": {
        "colab": {
          "base_uri": "https://localhost:8080/"
        },
        "id": "6IdxMMW82wdU",
        "outputId": "39dd99b2-203e-4ff2-9eca-32204df58253"
      },
      "source": [
        "#count of missing values.\n",
        "data.isnull().sum()"
      ],
      "execution_count": 18,
      "outputs": [
        {
          "output_type": "execute_result",
          "data": {
            "text/plain": [
              "Hospital_County           2455\n",
              "Age                          0\n",
              "Gender                       0\n",
              "Days_spend_hsptl             0\n",
              "Admission_type               0\n",
              "home_or_selfcare             0\n",
              "ccs_diagnosis_code           0\n",
              "ccs_procedure_code           0\n",
              "apr_drg_description          0\n",
              "Code_illness                 0\n",
              "mortalityrisk               39\n",
              "Surg_Description             0\n",
              "emergency_dept               0\n",
              "Tot_charg                    0\n",
              "ratio_ofcost_to_charge       0\n",
              "Result                       0\n",
              "Payment_Typology             0\n",
              "dtype: int64"
            ]
          },
          "metadata": {
            "tags": []
          },
          "execution_count": 18
        }
      ]
    },
    {
      "cell_type": "code",
      "metadata": {
        "colab": {
          "base_uri": "https://localhost:8080/",
          "height": 1000
        },
        "id": "BwoLwFRbHp0M",
        "outputId": "d4bfe4ce-8f57-4af9-e9b9-fc874bcdb04f"
      },
      "source": [
        "plt.figure(figsize=(20,20))\n",
        "sns.heatmap(data.isnull(),yticklabels=False,cmap='viridis')"
      ],
      "execution_count": 19,
      "outputs": [
        {
          "output_type": "execute_result",
          "data": {
            "text/plain": [
              "<matplotlib.axes._subplots.AxesSubplot at 0x7f1f3a80f810>"
            ]
          },
          "metadata": {
            "tags": []
          },
          "execution_count": 19
        },
        {
          "output_type": "display_data",
          "data": {
            "image/png": "[encoded data removed]",
            "text/plain": [
              "<Figure size 1440x1440 with 2 Axes>"
            ]
          },
          "metadata": {
            "tags": [],
            "needs_background": "light"
          }
        }
      ]
    },
    {
      "cell_type": "code",
      "metadata": {
        "id": "HGxdnV2TdKv2"
      },
      "source": [
        "# Impute the missing values using median in numerical column.\n",
        "data['mortalityrisk'].fillna(data.mortalityrisk.median(),inplace=True)"
      ],
      "execution_count": 20,
      "outputs": []
    },
    {
      "cell_type": "code",
      "metadata": {
        "id": "kr2BovT6E8tP"
      },
      "source": [
        "#drop the null values from categarical column.\n",
        "df=data.dropna()"
      ],
      "execution_count": 21,
      "outputs": []
    },
    {
      "cell_type": "code",
      "metadata": {
        "colab": {
          "base_uri": "https://localhost:8080/"
        },
        "id": "PLiV5KcuwJZO",
        "outputId": "4bc22018-758e-4adb-8941-300fbca207c2"
      },
      "source": [
        "df.isnull().sum()"
      ],
      "execution_count": 22,
      "outputs": [
        {
          "output_type": "execute_result",
          "data": {
            "text/plain": [
              "Hospital_County           0\n",
              "Age                       0\n",
              "Gender                    0\n",
              "Days_spend_hsptl          0\n",
              "Admission_type            0\n",
              "home_or_selfcare          0\n",
              "ccs_diagnosis_code        0\n",
              "ccs_procedure_code        0\n",
              "apr_drg_description       0\n",
              "Code_illness              0\n",
              "mortalityrisk             0\n",
              "Surg_Description          0\n",
              "emergency_dept            0\n",
              "Tot_charg                 0\n",
              "ratio_ofcost_to_charge    0\n",
              "Result                    0\n",
              "Payment_Typology          0\n",
              "dtype: int64"
            ]
          },
          "metadata": {
            "tags": []
          },
          "execution_count": 22
        }
      ]
    },
    {
      "cell_type": "code",
      "metadata": {
        "id": "LrQl9Ry_geIN"
      },
      "source": [
        "#Datatype conversion\n",
        "df['mortalityrisk']=df['mortalityrisk'].astype('int64')"
      ],
      "execution_count": 23,
      "outputs": []
    },
    {
      "cell_type": "code",
      "metadata": {
        "colab": {
          "base_uri": "https://localhost:8080/"
        },
        "id": "dlSmEgLfgeIN",
        "scrolled": true,
        "outputId": "6ae595b6-97fa-4ff6-c12b-588b0aba569f"
      },
      "source": [
        "df.dtypes"
      ],
      "execution_count": 24,
      "outputs": [
        {
          "output_type": "execute_result",
          "data": {
            "text/plain": [
              "Hospital_County            object\n",
              "Age                        object\n",
              "Gender                     object\n",
              "Days_spend_hsptl           object\n",
              "Admission_type             object\n",
              "home_or_selfcare           object\n",
              "ccs_diagnosis_code          int64\n",
              "ccs_procedure_code          int64\n",
              "apr_drg_description        object\n",
              "Code_illness                int64\n",
              "mortalityrisk               int64\n",
              "Surg_Description           object\n",
              "emergency_dept             object\n",
              "Tot_charg                 float64\n",
              "ratio_ofcost_to_charge    float64\n",
              "Result                      int64\n",
              "Payment_Typology            int64\n",
              "dtype: object"
            ]
          },
          "metadata": {
            "tags": []
          },
          "execution_count": 24
        }
      ]
    },
    {
      "cell_type": "code",
      "metadata": {
        "colab": {
          "base_uri": "https://localhost:8080/"
        },
        "id": "4V_LvvuXkMIO",
        "outputId": "74590c7b-e961-426a-c0ce-2e02d0a963fb"
      },
      "source": [
        "df['Days_spend_hsptl'].replace('120 +', 120,inplace=True)\n",
        "df['Days_spend_hsptl']=pd.to_numeric(df['Days_spend_hsptl'])\n",
        "df['Days_spend_hsptl'].unique()"
      ],
      "execution_count": 25,
      "outputs": [
        {
          "output_type": "execute_result",
          "data": {
            "text/plain": [
              "array([  4,   3,   1,   2,   5,   6,  14,  12,   9,   8,  10,   7,  22,\n",
              "        11,  16,  15,  25,  13,  17,  28,  18,  19,  23,  38,  20,  24,\n",
              "        26,  21,  27,  30,  29,  39,  87,  35,  37,  32,  55,  56,  49,\n",
              "       110,  69,  75,  42,  51,  47,  45,  46,  40,  34,  79,  43, 120,\n",
              "        65,  41,  31,  50,  59,  44,  36,  70, 115,  58,  94,  33,  68,\n",
              "        67,  54,  80,  85,  95,  78,  91,  88,  48,  52,  63,  57,  74,\n",
              "        64,  53,  62,  97,  72, 118,  81,  90,  86, 106, 112, 105, 114,\n",
              "        66,  89,  83,  84,  82,  93, 116,  71,  60,  73,  61,  92,  76,\n",
              "        96,  77, 104, 100, 103, 102, 117, 108,  99, 107,  98, 101, 119,\n",
              "       111, 109, 113])"
            ]
          },
          "metadata": {
            "tags": []
          },
          "execution_count": 25
        }
      ]
    },
    {
      "cell_type": "code",
      "metadata": {
        "colab": {
          "base_uri": "https://localhost:8080/",
          "height": 623
        },
        "id": "psrwxEwdwm4m",
        "outputId": "c388bb2c-968e-4ab6-9f81-4027a80a983e"
      },
      "source": [
        "df"
      ],
      "execution_count": 26,
      "outputs": [
        {
          "output_type": "execute_result",
          "data": {
            "text/html": [
              "<div>\n",
              "<style scoped>\n",
              "    .dataframe tbody tr th:only-of-type {\n",
              "        vertical-align: middle;\n",
              "    }\n",
              "\n",
              "    .dataframe tbody tr th {\n",
              "        vertical-align: top;\n",
              "    }\n",
              "\n",
              "    .dataframe thead th {\n",
              "        text-align: right;\n",
              "    }\n",
              "</style>\n",
              "<table border=\"1\" class=\"dataframe\">\n",
              "  <thead>\n",
              "    <tr style=\"text-align: right;\">\n",
              "      <th></th>\n",
              "      <th>Hospital_County</th>\n",
              "      <th>Age</th>\n",
              "      <th>Gender</th>\n",
              "      <th>Days_spend_hsptl</th>\n",
              "      <th>Admission_type</th>\n",
              "      <th>home_or_selfcare</th>\n",
              "      <th>ccs_diagnosis_code</th>\n",
              "      <th>ccs_procedure_code</th>\n",
              "      <th>apr_drg_description</th>\n",
              "      <th>Code_illness</th>\n",
              "      <th>mortalityrisk</th>\n",
              "      <th>Surg_Description</th>\n",
              "      <th>emergency_dept</th>\n",
              "      <th>Tot_charg</th>\n",
              "      <th>ratio_ofcost_to_charge</th>\n",
              "      <th>Result</th>\n",
              "      <th>Payment_Typology</th>\n",
              "    </tr>\n",
              "  </thead>\n",
              "  <tbody>\n",
              "    <tr>\n",
              "      <th>0</th>\n",
              "      <td>Allegany</td>\n",
              "      <td>30 to 49</td>\n",
              "      <td>F</td>\n",
              "      <td>4</td>\n",
              "      <td>Elective</td>\n",
              "      <td>Home or Self Care</td>\n",
              "      <td>122</td>\n",
              "      <td>0</td>\n",
              "      <td>Other pneumonia</td>\n",
              "      <td>1</td>\n",
              "      <td>1</td>\n",
              "      <td>Medical</td>\n",
              "      <td>Y</td>\n",
              "      <td>5511.95</td>\n",
              "      <td>1.012798</td>\n",
              "      <td>1</td>\n",
              "      <td>1</td>\n",
              "    </tr>\n",
              "    <tr>\n",
              "      <th>1</th>\n",
              "      <td>Allegany</td>\n",
              "      <td>70 or Older</td>\n",
              "      <td>F</td>\n",
              "      <td>4</td>\n",
              "      <td>Urgent</td>\n",
              "      <td>Short-term Hospital</td>\n",
              "      <td>197</td>\n",
              "      <td>0</td>\n",
              "      <td>Cellulitis &amp; other skin infections</td>\n",
              "      <td>3</td>\n",
              "      <td>2</td>\n",
              "      <td>Medical</td>\n",
              "      <td>Y</td>\n",
              "      <td>4783.20</td>\n",
              "      <td>1.079365</td>\n",
              "      <td>1</td>\n",
              "      <td>1</td>\n",
              "    </tr>\n",
              "    <tr>\n",
              "      <th>2</th>\n",
              "      <td>Allegany</td>\n",
              "      <td>30 to 49</td>\n",
              "      <td>F</td>\n",
              "      <td>3</td>\n",
              "      <td>Urgent</td>\n",
              "      <td>Home or Self Care</td>\n",
              "      <td>122</td>\n",
              "      <td>0</td>\n",
              "      <td>Other pneumonia</td>\n",
              "      <td>1</td>\n",
              "      <td>1</td>\n",
              "      <td>Medical</td>\n",
              "      <td>Y</td>\n",
              "      <td>3829.15</td>\n",
              "      <td>1.059379</td>\n",
              "      <td>1</td>\n",
              "      <td>1</td>\n",
              "    </tr>\n",
              "    <tr>\n",
              "      <th>3</th>\n",
              "      <td>Allegany</td>\n",
              "      <td>0 to 17</td>\n",
              "      <td>F</td>\n",
              "      <td>1</td>\n",
              "      <td>Urgent</td>\n",
              "      <td>Home or Self Care</td>\n",
              "      <td>122</td>\n",
              "      <td>0</td>\n",
              "      <td>Other pneumonia</td>\n",
              "      <td>1</td>\n",
              "      <td>1</td>\n",
              "      <td>Medical</td>\n",
              "      <td>Y</td>\n",
              "      <td>1108.20</td>\n",
              "      <td>1.484167</td>\n",
              "      <td>0</td>\n",
              "      <td>1</td>\n",
              "    </tr>\n",
              "    <tr>\n",
              "      <th>4</th>\n",
              "      <td>Allegany</td>\n",
              "      <td>70 or Older</td>\n",
              "      <td>F</td>\n",
              "      <td>3</td>\n",
              "      <td>Elective</td>\n",
              "      <td>Home or Self Care</td>\n",
              "      <td>122</td>\n",
              "      <td>0</td>\n",
              "      <td>Other pneumonia</td>\n",
              "      <td>2</td>\n",
              "      <td>3</td>\n",
              "      <td>Medical</td>\n",
              "      <td>Y</td>\n",
              "      <td>3418.18</td>\n",
              "      <td>0.986161</td>\n",
              "      <td>1</td>\n",
              "      <td>1</td>\n",
              "    </tr>\n",
              "    <tr>\n",
              "      <th>...</th>\n",
              "      <td>...</td>\n",
              "      <td>...</td>\n",
              "      <td>...</td>\n",
              "      <td>...</td>\n",
              "      <td>...</td>\n",
              "      <td>...</td>\n",
              "      <td>...</td>\n",
              "      <td>...</td>\n",
              "      <td>...</td>\n",
              "      <td>...</td>\n",
              "      <td>...</td>\n",
              "      <td>...</td>\n",
              "      <td>...</td>\n",
              "      <td>...</td>\n",
              "      <td>...</td>\n",
              "      <td>...</td>\n",
              "      <td>...</td>\n",
              "    </tr>\n",
              "    <tr>\n",
              "      <th>1048570</th>\n",
              "      <td>Bronx</td>\n",
              "      <td>70 or Older</td>\n",
              "      <td>F</td>\n",
              "      <td>6</td>\n",
              "      <td>Emergency</td>\n",
              "      <td>Skilled Nursing Home</td>\n",
              "      <td>106</td>\n",
              "      <td>29</td>\n",
              "      <td>Cardiac arrhythmia &amp; conduction disorders</td>\n",
              "      <td>2</td>\n",
              "      <td>3</td>\n",
              "      <td>Medical</td>\n",
              "      <td>Y</td>\n",
              "      <td>69650.41</td>\n",
              "      <td>0.199522</td>\n",
              "      <td>1</td>\n",
              "      <td>3</td>\n",
              "    </tr>\n",
              "    <tr>\n",
              "      <th>1048571</th>\n",
              "      <td>Bronx</td>\n",
              "      <td>0 to 17</td>\n",
              "      <td>F</td>\n",
              "      <td>2</td>\n",
              "      <td>Emergency</td>\n",
              "      <td>Home or Self Care</td>\n",
              "      <td>8</td>\n",
              "      <td>231</td>\n",
              "      <td>Other infectious &amp; parasitic diseases</td>\n",
              "      <td>2</td>\n",
              "      <td>1</td>\n",
              "      <td>Medical</td>\n",
              "      <td>N</td>\n",
              "      <td>13587.38</td>\n",
              "      <td>0.288382</td>\n",
              "      <td>1</td>\n",
              "      <td>3</td>\n",
              "    </tr>\n",
              "    <tr>\n",
              "      <th>1048572</th>\n",
              "      <td>Bronx</td>\n",
              "      <td>50 to 69</td>\n",
              "      <td>M</td>\n",
              "      <td>13</td>\n",
              "      <td>Emergency</td>\n",
              "      <td>Medicare Cert Long Term Care Hospital</td>\n",
              "      <td>151</td>\n",
              "      <td>88</td>\n",
              "      <td>Hepatic coma &amp; other major acute liver disorders</td>\n",
              "      <td>4</td>\n",
              "      <td>4</td>\n",
              "      <td>Medical</td>\n",
              "      <td>Y</td>\n",
              "      <td>104629.78</td>\n",
              "      <td>0.236516</td>\n",
              "      <td>0</td>\n",
              "      <td>3</td>\n",
              "    </tr>\n",
              "    <tr>\n",
              "      <th>1048573</th>\n",
              "      <td>Bronx</td>\n",
              "      <td>30 to 49</td>\n",
              "      <td>F</td>\n",
              "      <td>2</td>\n",
              "      <td>Emergency</td>\n",
              "      <td>Home or Self Care</td>\n",
              "      <td>143</td>\n",
              "      <td>86</td>\n",
              "      <td>Inguinal, femoral &amp; umbilical hernia procedures</td>\n",
              "      <td>1</td>\n",
              "      <td>1</td>\n",
              "      <td>Surgical</td>\n",
              "      <td>Y</td>\n",
              "      <td>27521.41</td>\n",
              "      <td>0.245846</td>\n",
              "      <td>1</td>\n",
              "      <td>3</td>\n",
              "    </tr>\n",
              "    <tr>\n",
              "      <th>1048574</th>\n",
              "      <td>Bronx</td>\n",
              "      <td>50 to 69</td>\n",
              "      <td>M</td>\n",
              "      <td>2</td>\n",
              "      <td>Emergency</td>\n",
              "      <td>Home or Self Care</td>\n",
              "      <td>106</td>\n",
              "      <td>0</td>\n",
              "      <td>Cardiac arrhythmia &amp; conduction disorders</td>\n",
              "      <td>1</td>\n",
              "      <td>1</td>\n",
              "      <td>Medical</td>\n",
              "      <td>Y</td>\n",
              "      <td>24832.23</td>\n",
              "      <td>0.200331</td>\n",
              "      <td>1</td>\n",
              "      <td>2</td>\n",
              "    </tr>\n",
              "  </tbody>\n",
              "</table>\n",
              "<p>1024434 rows × 17 columns</p>\n",
              "</div>"
            ],
            "text/plain": [
              "        Hospital_County          Age  ... Result  Payment_Typology\n",
              "0              Allegany     30 to 49  ...      1                 1\n",
              "1              Allegany  70 or Older  ...      1                 1\n",
              "2              Allegany     30 to 49  ...      1                 1\n",
              "3              Allegany      0 to 17  ...      0                 1\n",
              "4              Allegany  70 or Older  ...      1                 1\n",
              "...                 ...          ...  ...    ...               ...\n",
              "1048570           Bronx  70 or Older  ...      1                 3\n",
              "1048571           Bronx      0 to 17  ...      1                 3\n",
              "1048572           Bronx     50 to 69  ...      0                 3\n",
              "1048573           Bronx     30 to 49  ...      1                 3\n",
              "1048574           Bronx     50 to 69  ...      1                 2\n",
              "\n",
              "[1024434 rows x 17 columns]"
            ]
          },
          "metadata": {
            "tags": []
          },
          "execution_count": 26
        }
      ]
    },
    {
      "cell_type": "markdown",
      "metadata": {
        "id": "w0wRTkjqMA49"
      },
      "source": [
        "## Oulier Detection\n",
        "###### We will use IQR (Interquartile Range Method) to deal with outliers."
      ]
    },
    {
      "cell_type": "code",
      "metadata": {
        "colab": {
          "base_uri": "https://localhost:8080/",
          "height": 297
        },
        "id": "LbK_opfdL_Nl",
        "outputId": "12a32384-d4f2-47dd-fa96-b84a9df7b61c"
      },
      "source": [
        "figure=df.Days_spend_hsptl.hist(bins=50)\n",
        "figure.set_xlabel('Days_spend_hsptl')\n",
        "figure.set_ylabel('Frequency')"
      ],
      "execution_count": null,
      "outputs": [
        {
          "output_type": "execute_result",
          "data": {
            "text/plain": [
              "Text(0, 0.5, 'Frequency')"
            ]
          },
          "metadata": {
            "tags": []
          },
          "execution_count": 102
        },
        {
          "output_type": "display_data",
          "data": {
            "image/png": "[encoded data removed]",
            "text/plain": [
              "<Figure size 432x288 with 1 Axes>"
            ]
          },
          "metadata": {
            "tags": [],
            "needs_background": "light"
          }
        }
      ]
    },
    {
      "cell_type": "code",
      "metadata": {
        "colab": {
          "base_uri": "https://localhost:8080/",
          "height": 283
        },
        "id": "tFz6pmbPA9ue",
        "outputId": "527f7898-45d6-460b-9c1e-d2dbfbc4e5bc"
      },
      "source": [
        "df.boxplot(column=\"Days_spend_hsptl\")"
      ],
      "execution_count": null,
      "outputs": [
        {
          "output_type": "execute_result",
          "data": {
            "text/plain": [
              "<matplotlib.axes._subplots.AxesSubplot at 0x7f7ed9558210>"
            ]
          },
          "metadata": {
            "tags": []
          },
          "execution_count": 103
        },
        {
          "output_type": "display_data",
          "data": {
            "image/png": "[encoded data removed]",
            "text/plain": [
              "<Figure size 432x288 with 1 Axes>"
            ]
          },
          "metadata": {
            "tags": [],
            "needs_background": "light"
          }
        }
      ]
    },
    {
      "cell_type": "code",
      "metadata": {
        "colab": {
          "base_uri": "https://localhost:8080/"
        },
        "id": "K3bquz4-_1Vc",
        "outputId": "5b1e2325-4cf3-4e9a-f6c7-4ab0fc81d008"
      },
      "source": [
        "df['Days_spend_hsptl'].max()"
      ],
      "execution_count": null,
      "outputs": [
        {
          "output_type": "execute_result",
          "data": {
            "text/plain": [
              "120"
            ]
          },
          "metadata": {
            "tags": []
          },
          "execution_count": 104
        }
      ]
    },
    {
      "cell_type": "code",
      "metadata": {
        "colab": {
          "base_uri": "https://localhost:8080/"
        },
        "id": "cJtigqib_1Yo",
        "outputId": "ae37cadb-8559-41a1-c09b-75b3569ee4c8"
      },
      "source": [
        "df['Days_spend_hsptl'].min()"
      ],
      "execution_count": null,
      "outputs": [
        {
          "output_type": "execute_result",
          "data": {
            "text/plain": [
              "1"
            ]
          },
          "metadata": {
            "tags": []
          },
          "execution_count": 105
        }
      ]
    },
    {
      "cell_type": "code",
      "metadata": {
        "id": "8iRsNGGQ_1cL"
      },
      "source": [
        "#Logarithmic Transformation\n",
        "df['Days_spend_hsptl'] =np.log(df['Days_spend_hsptl'] )"
      ],
      "execution_count": null,
      "outputs": []
    },
    {
      "cell_type": "code",
      "metadata": {
        "colab": {
          "base_uri": "https://localhost:8080/",
          "height": 286
        },
        "id": "t17jDF78_1mT",
        "outputId": "862f3e85-6c0e-4310-c755-61fd0dcfbc43"
      },
      "source": [
        "df.boxplot(column=\"Days_spend_hsptl\")"
      ],
      "execution_count": null,
      "outputs": [
        {
          "output_type": "execute_result",
          "data": {
            "text/plain": [
              "<matplotlib.axes._subplots.AxesSubplot at 0x7f7ed94ba950>"
            ]
          },
          "metadata": {
            "tags": []
          },
          "execution_count": 107
        },
        {
          "output_type": "display_data",
          "data": {
            "image/png": "[encoded data removed]",
            "text/plain": [
              "<Figure size 432x288 with 1 Axes>"
            ]
          },
          "metadata": {
            "tags": [],
            "needs_background": "light"
          }
        }
      ]
    },
    {
      "cell_type": "code",
      "metadata": {
        "colab": {
          "base_uri": "https://localhost:8080/"
        },
        "id": "mDb3WW-L_1pV",
        "outputId": "212ca876-84b6-450f-9d31-7e8e89ab424e"
      },
      "source": [
        "df['Days_spend_hsptl'].describe()"
      ],
      "execution_count": null,
      "outputs": [
        {
          "output_type": "execute_result",
          "data": {
            "text/plain": [
              "count    1.024434e+06\n",
              "mean     1.259453e+00\n",
              "std      8.598809e-01\n",
              "min      0.000000e+00\n",
              "25%      6.931472e-01\n",
              "50%      1.098612e+00\n",
              "75%      1.791759e+00\n",
              "max      4.787492e+00\n",
              "Name: Days_spend_hsptl, dtype: float64"
            ]
          },
          "metadata": {
            "tags": []
          },
          "execution_count": 108
        }
      ]
    },
    {
      "cell_type": "code",
      "metadata": {
        "colab": {
          "base_uri": "https://localhost:8080/"
        },
        "id": "H1WyA3KV_1tD",
        "outputId": "eb833c91-242b-4bcb-e3bd-ee8631d31d9a"
      },
      "source": [
        "# Lets compute the Interquantile range to calculate the boundaries\n",
        "IQR=df.Days_spend_hsptl.quantile(0.75)-df.Days_spend_hsptl.quantile(0.25)\n",
        "IQR"
      ],
      "execution_count": null,
      "outputs": [
        {
          "output_type": "execute_result",
          "data": {
            "text/plain": [
              "1.0986122886681096"
            ]
          },
          "metadata": {
            "tags": []
          },
          "execution_count": 109
        }
      ]
    },
    {
      "cell_type": "code",
      "metadata": {
        "colab": {
          "base_uri": "https://localhost:8080/"
        },
        "id": "4IWZYK9BL_QO",
        "outputId": "9d4924a8-9f98-469e-dfb0-a4013f79d5f2"
      },
      "source": [
        "lower_bridge=df['Days_spend_hsptl'].quantile(0.25)-(IQR*1.5)\n",
        "upper_bridge=df['Days_spend_hsptl'].quantile(0.75)+(IQR*1.5)\n",
        "print(lower_bridge), print(upper_bridge)"
      ],
      "execution_count": null,
      "outputs": [
        {
          "output_type": "stream",
          "text": [
            "-0.954771252442219\n",
            "3.439677902230219\n"
          ],
          "name": "stdout"
        },
        {
          "output_type": "execute_result",
          "data": {
            "text/plain": [
              "(None, None)"
            ]
          },
          "metadata": {
            "tags": []
          },
          "execution_count": 111
        }
      ]
    },
    {
      "cell_type": "code",
      "metadata": {
        "colab": {
          "base_uri": "https://localhost:8080/"
        },
        "id": "IS8OJ7EAL_Tw",
        "outputId": "0cc083b6-5be7-4dce-bee8-e91d38ada180"
      },
      "source": [
        "#Extreme outliers\n",
        "lower_bridge=df['Days_spend_hsptl'].quantile(0.25)-(IQR*3)\n",
        "upper_bridge=df['Days_spend_hsptl'].quantile(0.75)+(IQR*3)\n",
        "print(lower_bridge), print(upper_bridge)"
      ],
      "execution_count": null,
      "outputs": [
        {
          "output_type": "stream",
          "text": [
            "-2.6026896854443833\n",
            "5.087596335232384\n"
          ],
          "name": "stdout"
        },
        {
          "output_type": "execute_result",
          "data": {
            "text/plain": [
              "(None, None)"
            ]
          },
          "metadata": {
            "tags": []
          },
          "execution_count": 114
        }
      ]
    },
    {
      "cell_type": "code",
      "metadata": {
        "id": "CJM-l2pdBoXV"
      },
      "source": [
        "df.loc[df['Days_spend_hsptl']>= 5,'Days_spend_hsptl']= 5"
      ],
      "execution_count": null,
      "outputs": []
    },
    {
      "cell_type": "code",
      "metadata": {
        "colab": {
          "base_uri": "https://localhost:8080/",
          "height": 283
        },
        "id": "rB3hDgKIBobW",
        "outputId": "1bfa3df0-1277-435a-fbbc-af225debac7c"
      },
      "source": [
        "df.boxplot(column=\"Days_spend_hsptl\")"
      ],
      "execution_count": null,
      "outputs": [
        {
          "output_type": "execute_result",
          "data": {
            "text/plain": [
              "<matplotlib.axes._subplots.AxesSubplot at 0x7f7ed9141450>"
            ]
          },
          "metadata": {
            "tags": []
          },
          "execution_count": 121
        },
        {
          "output_type": "display_data",
          "data": {
            "image/png": "[encoded data removed]",
            "text/plain": [
              "<Figure size 432x288 with 1 Axes>"
            ]
          },
          "metadata": {
            "tags": [],
            "needs_background": "light"
          }
        }
      ]
    },
    {
      "cell_type": "code",
      "metadata": {
        "colab": {
          "base_uri": "https://localhost:8080/",
          "height": 297
        },
        "id": "4fPuOI5ABoe7",
        "outputId": "a8d25dd0-e2d3-42be-cfeb-6433f4a35418"
      },
      "source": [
        "figure=df.Days_spend_hsptl.hist(bins=50)\n",
        "figure.set_xlabel('Days_spend_hsptl')\n",
        "figure.set_ylabel('Frequency')"
      ],
      "execution_count": null,
      "outputs": [
        {
          "output_type": "execute_result",
          "data": {
            "text/plain": [
              "Text(0, 0.5, 'Frequency')"
            ]
          },
          "metadata": {
            "tags": []
          },
          "execution_count": 119
        },
        {
          "output_type": "display_data",
          "data": {
            "image/png": "[encoded data removed]",
            "text/plain": [
              "<Figure size 432x288 with 1 Axes>"
            ]
          },
          "metadata": {
            "tags": [],
            "needs_background": "light"
          }
        }
      ]
    },
    {
      "cell_type": "markdown",
      "metadata": {
        "id": "MqzSfOjGLv92"
      },
      "source": [
        "## Feature Engineering\n",
        "\n",
        "Label Encoding for non-numerical columns"
      ]
    },
    {
      "cell_type": "code",
      "metadata": {
        "colab": {
          "base_uri": "https://localhost:8080/"
        },
        "id": "6foUbET_Hdwn",
        "outputId": "be567750-9e1e-4a56-be01-165666591339"
      },
      "source": [
        "x=df.iloc[:, [0,1,2,4,5,8,11,12]]\n",
        "x"
      ],
      "execution_count": null,
      "outputs": [
        {
          "output_type": "execute_result",
          "data": {
            "text/html": [
              "<div>\n",
              "<style scoped>\n",
              "    .dataframe tbody tr th:only-of-type {\n",
              "        vertical-align: middle;\n",
              "    }\n",
              "\n",
              "    .dataframe tbody tr th {\n",
              "        vertical-align: top;\n",
              "    }\n",
              "\n",
              "    .dataframe thead th {\n",
              "        text-align: right;\n",
              "    }\n",
              "</style>\n",
              "<table border=\"1\" class=\"dataframe\">\n",
              "  <thead>\n",
              "    <tr style=\"text-align: right;\">\n",
              "      <th></th>\n",
              "      <th>Hospital_County</th>\n",
              "      <th>Age</th>\n",
              "      <th>Gender</th>\n",
              "      <th>Admission_type</th>\n",
              "      <th>home_or_selfcare</th>\n",
              "      <th>apr_drg_description</th>\n",
              "      <th>Surg_Description</th>\n",
              "      <th>emergency_dept</th>\n",
              "    </tr>\n",
              "  </thead>\n",
              "  <tbody>\n",
              "    <tr>\n",
              "      <th>0</th>\n",
              "      <td>Allegany</td>\n",
              "      <td>30 to 49</td>\n",
              "      <td>F</td>\n",
              "      <td>Elective</td>\n",
              "      <td>Home or Self Care</td>\n",
              "      <td>Other pneumonia</td>\n",
              "      <td>Medical</td>\n",
              "      <td>Y</td>\n",
              "    </tr>\n",
              "    <tr>\n",
              "      <th>1</th>\n",
              "      <td>Allegany</td>\n",
              "      <td>70 or Older</td>\n",
              "      <td>F</td>\n",
              "      <td>Urgent</td>\n",
              "      <td>Short-term Hospital</td>\n",
              "      <td>Cellulitis &amp; other skin infections</td>\n",
              "      <td>Medical</td>\n",
              "      <td>Y</td>\n",
              "    </tr>\n",
              "    <tr>\n",
              "      <th>2</th>\n",
              "      <td>Allegany</td>\n",
              "      <td>30 to 49</td>\n",
              "      <td>F</td>\n",
              "      <td>Urgent</td>\n",
              "      <td>Home or Self Care</td>\n",
              "      <td>Other pneumonia</td>\n",
              "      <td>Medical</td>\n",
              "      <td>Y</td>\n",
              "    </tr>\n",
              "    <tr>\n",
              "      <th>3</th>\n",
              "      <td>Allegany</td>\n",
              "      <td>0 to 17</td>\n",
              "      <td>F</td>\n",
              "      <td>Urgent</td>\n",
              "      <td>Home or Self Care</td>\n",
              "      <td>Other pneumonia</td>\n",
              "      <td>Medical</td>\n",
              "      <td>Y</td>\n",
              "    </tr>\n",
              "    <tr>\n",
              "      <th>4</th>\n",
              "      <td>Allegany</td>\n",
              "      <td>70 or Older</td>\n",
              "      <td>F</td>\n",
              "      <td>Elective</td>\n",
              "      <td>Home or Self Care</td>\n",
              "      <td>Other pneumonia</td>\n",
              "      <td>Medical</td>\n",
              "      <td>Y</td>\n",
              "    </tr>\n",
              "    <tr>\n",
              "      <th>...</th>\n",
              "      <td>...</td>\n",
              "      <td>...</td>\n",
              "      <td>...</td>\n",
              "      <td>...</td>\n",
              "      <td>...</td>\n",
              "      <td>...</td>\n",
              "      <td>...</td>\n",
              "      <td>...</td>\n",
              "    </tr>\n",
              "    <tr>\n",
              "      <th>1048570</th>\n",
              "      <td>Bronx</td>\n",
              "      <td>70 or Older</td>\n",
              "      <td>F</td>\n",
              "      <td>Emergency</td>\n",
              "      <td>Skilled Nursing Home</td>\n",
              "      <td>Cardiac arrhythmia &amp; conduction disorders</td>\n",
              "      <td>Medical</td>\n",
              "      <td>Y</td>\n",
              "    </tr>\n",
              "    <tr>\n",
              "      <th>1048571</th>\n",
              "      <td>Bronx</td>\n",
              "      <td>0 to 17</td>\n",
              "      <td>F</td>\n",
              "      <td>Emergency</td>\n",
              "      <td>Home or Self Care</td>\n",
              "      <td>Other infectious &amp; parasitic diseases</td>\n",
              "      <td>Medical</td>\n",
              "      <td>N</td>\n",
              "    </tr>\n",
              "    <tr>\n",
              "      <th>1048572</th>\n",
              "      <td>Bronx</td>\n",
              "      <td>50 to 69</td>\n",
              "      <td>M</td>\n",
              "      <td>Emergency</td>\n",
              "      <td>Medicare Cert Long Term Care Hospital</td>\n",
              "      <td>Hepatic coma &amp; other major acute liver disorders</td>\n",
              "      <td>Medical</td>\n",
              "      <td>Y</td>\n",
              "    </tr>\n",
              "    <tr>\n",
              "      <th>1048573</th>\n",
              "      <td>Bronx</td>\n",
              "      <td>30 to 49</td>\n",
              "      <td>F</td>\n",
              "      <td>Emergency</td>\n",
              "      <td>Home or Self Care</td>\n",
              "      <td>Inguinal, femoral &amp; umbilical hernia procedures</td>\n",
              "      <td>Surgical</td>\n",
              "      <td>Y</td>\n",
              "    </tr>\n",
              "    <tr>\n",
              "      <th>1048574</th>\n",
              "      <td>Bronx</td>\n",
              "      <td>50 to 69</td>\n",
              "      <td>M</td>\n",
              "      <td>Emergency</td>\n",
              "      <td>Home or Self Care</td>\n",
              "      <td>Cardiac arrhythmia &amp; conduction disorders</td>\n",
              "      <td>Medical</td>\n",
              "      <td>Y</td>\n",
              "    </tr>\n",
              "  </tbody>\n",
              "</table>\n",
              "<p>1024434 rows × 8 columns</p>\n",
              "</div>"
            ],
            "text/plain": [
              "        Hospital_County          Age  ... Surg_Description emergency_dept\n",
              "0              Allegany     30 to 49  ...          Medical              Y\n",
              "1              Allegany  70 or Older  ...          Medical              Y\n",
              "2              Allegany     30 to 49  ...          Medical              Y\n",
              "3              Allegany      0 to 17  ...          Medical              Y\n",
              "4              Allegany  70 or Older  ...          Medical              Y\n",
              "...                 ...          ...  ...              ...            ...\n",
              "1048570           Bronx  70 or Older  ...          Medical              Y\n",
              "1048571           Bronx      0 to 17  ...          Medical              N\n",
              "1048572           Bronx     50 to 69  ...          Medical              Y\n",
              "1048573           Bronx     30 to 49  ...         Surgical              Y\n",
              "1048574           Bronx     50 to 69  ...          Medical              Y\n",
              "\n",
              "[1024434 rows x 8 columns]"
            ]
          },
          "metadata": {
            "tags": []
          },
          "execution_count": 25
        }
      ]
    },
    {
      "cell_type": "code",
      "metadata": {
        "colab": {
          "base_uri": "https://localhost:8080/"
        },
        "id": "opHf37WhHd0y",
        "outputId": "81ffde73-6d3d-4637-9fef-e6adde0c7687"
      },
      "source": [
        "Labelencoder_X= LabelEncoder()\n",
        "X=x.apply(LabelEncoder().fit_transform)\n",
        "X"
      ],
      "execution_count": null,
      "outputs": [
        {
          "output_type": "execute_result",
          "data": {
            "text/html": [
              "<div>\n",
              "<style scoped>\n",
              "    .dataframe tbody tr th:only-of-type {\n",
              "        vertical-align: middle;\n",
              "    }\n",
              "\n",
              "    .dataframe tbody tr th {\n",
              "        vertical-align: top;\n",
              "    }\n",
              "\n",
              "    .dataframe thead th {\n",
              "        text-align: right;\n",
              "    }\n",
              "</style>\n",
              "<table border=\"1\" class=\"dataframe\">\n",
              "  <thead>\n",
              "    <tr style=\"text-align: right;\">\n",
              "      <th></th>\n",
              "      <th>Hospital_County</th>\n",
              "      <th>Age</th>\n",
              "      <th>Gender</th>\n",
              "      <th>Admission_type</th>\n",
              "      <th>home_or_selfcare</th>\n",
              "      <th>apr_drg_description</th>\n",
              "      <th>Surg_Description</th>\n",
              "      <th>emergency_dept</th>\n",
              "    </tr>\n",
              "  </thead>\n",
              "  <tbody>\n",
              "    <tr>\n",
              "      <th>0</th>\n",
              "      <td>1</td>\n",
              "      <td>2</td>\n",
              "      <td>0</td>\n",
              "      <td>0</td>\n",
              "      <td>7</td>\n",
              "      <td>237</td>\n",
              "      <td>0</td>\n",
              "      <td>1</td>\n",
              "    </tr>\n",
              "    <tr>\n",
              "      <th>1</th>\n",
              "      <td>1</td>\n",
              "      <td>4</td>\n",
              "      <td>0</td>\n",
              "      <td>5</td>\n",
              "      <td>17</td>\n",
              "      <td>38</td>\n",
              "      <td>0</td>\n",
              "      <td>1</td>\n",
              "    </tr>\n",
              "    <tr>\n",
              "      <th>2</th>\n",
              "      <td>1</td>\n",
              "      <td>2</td>\n",
              "      <td>0</td>\n",
              "      <td>5</td>\n",
              "      <td>7</td>\n",
              "      <td>237</td>\n",
              "      <td>0</td>\n",
              "      <td>1</td>\n",
              "    </tr>\n",
              "    <tr>\n",
              "      <th>3</th>\n",
              "      <td>1</td>\n",
              "      <td>0</td>\n",
              "      <td>0</td>\n",
              "      <td>5</td>\n",
              "      <td>7</td>\n",
              "      <td>237</td>\n",
              "      <td>0</td>\n",
              "      <td>1</td>\n",
              "    </tr>\n",
              "    <tr>\n",
              "      <th>4</th>\n",
              "      <td>1</td>\n",
              "      <td>4</td>\n",
              "      <td>0</td>\n",
              "      <td>0</td>\n",
              "      <td>7</td>\n",
              "      <td>237</td>\n",
              "      <td>0</td>\n",
              "      <td>1</td>\n",
              "    </tr>\n",
              "    <tr>\n",
              "      <th>...</th>\n",
              "      <td>...</td>\n",
              "      <td>...</td>\n",
              "      <td>...</td>\n",
              "      <td>...</td>\n",
              "      <td>...</td>\n",
              "      <td>...</td>\n",
              "      <td>...</td>\n",
              "      <td>...</td>\n",
              "    </tr>\n",
              "    <tr>\n",
              "      <th>1048570</th>\n",
              "      <td>2</td>\n",
              "      <td>4</td>\n",
              "      <td>0</td>\n",
              "      <td>1</td>\n",
              "      <td>18</td>\n",
              "      <td>28</td>\n",
              "      <td>0</td>\n",
              "      <td>1</td>\n",
              "    </tr>\n",
              "    <tr>\n",
              "      <th>1048571</th>\n",
              "      <td>2</td>\n",
              "      <td>0</td>\n",
              "      <td>0</td>\n",
              "      <td>1</td>\n",
              "      <td>7</td>\n",
              "      <td>227</td>\n",
              "      <td>0</td>\n",
              "      <td>0</td>\n",
              "    </tr>\n",
              "    <tr>\n",
              "      <th>1048572</th>\n",
              "      <td>2</td>\n",
              "      <td>3</td>\n",
              "      <td>1</td>\n",
              "      <td>1</td>\n",
              "      <td>15</td>\n",
              "      <td>99</td>\n",
              "      <td>0</td>\n",
              "      <td>1</td>\n",
              "    </tr>\n",
              "    <tr>\n",
              "      <th>1048573</th>\n",
              "      <td>2</td>\n",
              "      <td>2</td>\n",
              "      <td>0</td>\n",
              "      <td>1</td>\n",
              "      <td>7</td>\n",
              "      <td>109</td>\n",
              "      <td>2</td>\n",
              "      <td>1</td>\n",
              "    </tr>\n",
              "    <tr>\n",
              "      <th>1048574</th>\n",
              "      <td>2</td>\n",
              "      <td>3</td>\n",
              "      <td>1</td>\n",
              "      <td>1</td>\n",
              "      <td>7</td>\n",
              "      <td>28</td>\n",
              "      <td>0</td>\n",
              "      <td>1</td>\n",
              "    </tr>\n",
              "  </tbody>\n",
              "</table>\n",
              "<p>1024434 rows × 8 columns</p>\n",
              "</div>"
            ],
            "text/plain": [
              "         Hospital_County  Age  ...  Surg_Description  emergency_dept\n",
              "0                      1    2  ...                 0               1\n",
              "1                      1    4  ...                 0               1\n",
              "2                      1    2  ...                 0               1\n",
              "3                      1    0  ...                 0               1\n",
              "4                      1    4  ...                 0               1\n",
              "...                  ...  ...  ...               ...             ...\n",
              "1048570                2    4  ...                 0               1\n",
              "1048571                2    0  ...                 0               0\n",
              "1048572                2    3  ...                 0               1\n",
              "1048573                2    2  ...                 2               1\n",
              "1048574                2    3  ...                 0               1\n",
              "\n",
              "[1024434 rows x 8 columns]"
            ]
          },
          "metadata": {
            "tags": []
          },
          "execution_count": 26
        }
      ]
    },
    {
      "cell_type": "code",
      "metadata": {
        "colab": {
          "base_uri": "https://localhost:8080/"
        },
        "id": "iLNBKDK4EPqJ",
        "outputId": "fe9aca2d-a2fe-43b0-a535-eb6965beb22c"
      },
      "source": [
        "X.dtypes"
      ],
      "execution_count": null,
      "outputs": [
        {
          "output_type": "execute_result",
          "data": {
            "text/plain": [
              "Hospital_County        int64\n",
              "Age                    int64\n",
              "Gender                 int64\n",
              "Admission_type         int64\n",
              "home_or_selfcare       int64\n",
              "apr_drg_description    int64\n",
              "Surg_Description       int64\n",
              "emergency_dept         int64\n",
              "dtype: object"
            ]
          },
          "metadata": {
            "tags": []
          },
          "execution_count": 27
        }
      ]
    },
    {
      "cell_type": "code",
      "metadata": {
        "id": "V0AVp4GsHd4V"
      },
      "source": [
        "data=df.drop([\"Hospital_County\",\"Age\",\"Gender\",\"Admission_type\",\"home_or_selfcare\",\"apr_drg_description\",\"Surg_Description\",\"emergency_dept\"],axis=1)"
      ],
      "execution_count": null,
      "outputs": []
    },
    {
      "cell_type": "code",
      "metadata": {
        "colab": {
          "base_uri": "https://localhost:8080/"
        },
        "id": "bY86g6MhHd7_",
        "outputId": "f43dccc0-6311-45c2-c414-721f0c979fc0"
      },
      "source": [
        "fraud=pd.concat([X,data],axis=1)\n",
        "fraud"
      ],
      "execution_count": null,
      "outputs": [
        {
          "output_type": "execute_result",
          "data": {
            "text/html": [
              "<div>\n",
              "<style scoped>\n",
              "    .dataframe tbody tr th:only-of-type {\n",
              "        vertical-align: middle;\n",
              "    }\n",
              "\n",
              "    .dataframe tbody tr th {\n",
              "        vertical-align: top;\n",
              "    }\n",
              "\n",
              "    .dataframe thead th {\n",
              "        text-align: right;\n",
              "    }\n",
              "</style>\n",
              "<table border=\"1\" class=\"dataframe\">\n",
              "  <thead>\n",
              "    <tr style=\"text-align: right;\">\n",
              "      <th></th>\n",
              "      <th>Hospital_County</th>\n",
              "      <th>Age</th>\n",
              "      <th>Gender</th>\n",
              "      <th>Admission_type</th>\n",
              "      <th>home_or_selfcare</th>\n",
              "      <th>apr_drg_description</th>\n",
              "      <th>Surg_Description</th>\n",
              "      <th>emergency_dept</th>\n",
              "      <th>Days_spend_hsptl</th>\n",
              "      <th>ccs_diagnosis_code</th>\n",
              "      <th>ccs_procedure_code</th>\n",
              "      <th>Code_illness</th>\n",
              "      <th>mortalityrisk</th>\n",
              "      <th>Tot_charg</th>\n",
              "      <th>ratio_ofcost_to_charge</th>\n",
              "      <th>Result</th>\n",
              "      <th>Payment_Typology</th>\n",
              "    </tr>\n",
              "  </thead>\n",
              "  <tbody>\n",
              "    <tr>\n",
              "      <th>0</th>\n",
              "      <td>1</td>\n",
              "      <td>2</td>\n",
              "      <td>0</td>\n",
              "      <td>0</td>\n",
              "      <td>7</td>\n",
              "      <td>237</td>\n",
              "      <td>0</td>\n",
              "      <td>1</td>\n",
              "      <td>4</td>\n",
              "      <td>122</td>\n",
              "      <td>0</td>\n",
              "      <td>1</td>\n",
              "      <td>1</td>\n",
              "      <td>5511.95</td>\n",
              "      <td>1.012798</td>\n",
              "      <td>1</td>\n",
              "      <td>1</td>\n",
              "    </tr>\n",
              "    <tr>\n",
              "      <th>1</th>\n",
              "      <td>1</td>\n",
              "      <td>4</td>\n",
              "      <td>0</td>\n",
              "      <td>5</td>\n",
              "      <td>17</td>\n",
              "      <td>38</td>\n",
              "      <td>0</td>\n",
              "      <td>1</td>\n",
              "      <td>4</td>\n",
              "      <td>197</td>\n",
              "      <td>0</td>\n",
              "      <td>3</td>\n",
              "      <td>2</td>\n",
              "      <td>4783.20</td>\n",
              "      <td>1.079365</td>\n",
              "      <td>1</td>\n",
              "      <td>1</td>\n",
              "    </tr>\n",
              "    <tr>\n",
              "      <th>2</th>\n",
              "      <td>1</td>\n",
              "      <td>2</td>\n",
              "      <td>0</td>\n",
              "      <td>5</td>\n",
              "      <td>7</td>\n",
              "      <td>237</td>\n",
              "      <td>0</td>\n",
              "      <td>1</td>\n",
              "      <td>3</td>\n",
              "      <td>122</td>\n",
              "      <td>0</td>\n",
              "      <td>1</td>\n",
              "      <td>1</td>\n",
              "      <td>3829.15</td>\n",
              "      <td>1.059379</td>\n",
              "      <td>1</td>\n",
              "      <td>1</td>\n",
              "    </tr>\n",
              "    <tr>\n",
              "      <th>3</th>\n",
              "      <td>1</td>\n",
              "      <td>0</td>\n",
              "      <td>0</td>\n",
              "      <td>5</td>\n",
              "      <td>7</td>\n",
              "      <td>237</td>\n",
              "      <td>0</td>\n",
              "      <td>1</td>\n",
              "      <td>1</td>\n",
              "      <td>122</td>\n",
              "      <td>0</td>\n",
              "      <td>1</td>\n",
              "      <td>1</td>\n",
              "      <td>1108.20</td>\n",
              "      <td>1.484167</td>\n",
              "      <td>0</td>\n",
              "      <td>1</td>\n",
              "    </tr>\n",
              "    <tr>\n",
              "      <th>4</th>\n",
              "      <td>1</td>\n",
              "      <td>4</td>\n",
              "      <td>0</td>\n",
              "      <td>0</td>\n",
              "      <td>7</td>\n",
              "      <td>237</td>\n",
              "      <td>0</td>\n",
              "      <td>1</td>\n",
              "      <td>3</td>\n",
              "      <td>122</td>\n",
              "      <td>0</td>\n",
              "      <td>2</td>\n",
              "      <td>3</td>\n",
              "      <td>3418.18</td>\n",
              "      <td>0.986161</td>\n",
              "      <td>1</td>\n",
              "      <td>1</td>\n",
              "    </tr>\n",
              "    <tr>\n",
              "      <th>...</th>\n",
              "      <td>...</td>\n",
              "      <td>...</td>\n",
              "      <td>...</td>\n",
              "      <td>...</td>\n",
              "      <td>...</td>\n",
              "      <td>...</td>\n",
              "      <td>...</td>\n",
              "      <td>...</td>\n",
              "      <td>...</td>\n",
              "      <td>...</td>\n",
              "      <td>...</td>\n",
              "      <td>...</td>\n",
              "      <td>...</td>\n",
              "      <td>...</td>\n",
              "      <td>...</td>\n",
              "      <td>...</td>\n",
              "      <td>...</td>\n",
              "    </tr>\n",
              "    <tr>\n",
              "      <th>1048570</th>\n",
              "      <td>2</td>\n",
              "      <td>4</td>\n",
              "      <td>0</td>\n",
              "      <td>1</td>\n",
              "      <td>18</td>\n",
              "      <td>28</td>\n",
              "      <td>0</td>\n",
              "      <td>1</td>\n",
              "      <td>6</td>\n",
              "      <td>106</td>\n",
              "      <td>29</td>\n",
              "      <td>2</td>\n",
              "      <td>3</td>\n",
              "      <td>69650.41</td>\n",
              "      <td>0.199522</td>\n",
              "      <td>1</td>\n",
              "      <td>3</td>\n",
              "    </tr>\n",
              "    <tr>\n",
              "      <th>1048571</th>\n",
              "      <td>2</td>\n",
              "      <td>0</td>\n",
              "      <td>0</td>\n",
              "      <td>1</td>\n",
              "      <td>7</td>\n",
              "      <td>227</td>\n",
              "      <td>0</td>\n",
              "      <td>0</td>\n",
              "      <td>2</td>\n",
              "      <td>8</td>\n",
              "      <td>231</td>\n",
              "      <td>2</td>\n",
              "      <td>1</td>\n",
              "      <td>13587.38</td>\n",
              "      <td>0.288382</td>\n",
              "      <td>1</td>\n",
              "      <td>3</td>\n",
              "    </tr>\n",
              "    <tr>\n",
              "      <th>1048572</th>\n",
              "      <td>2</td>\n",
              "      <td>3</td>\n",
              "      <td>1</td>\n",
              "      <td>1</td>\n",
              "      <td>15</td>\n",
              "      <td>99</td>\n",
              "      <td>0</td>\n",
              "      <td>1</td>\n",
              "      <td>13</td>\n",
              "      <td>151</td>\n",
              "      <td>88</td>\n",
              "      <td>4</td>\n",
              "      <td>4</td>\n",
              "      <td>104629.78</td>\n",
              "      <td>0.236516</td>\n",
              "      <td>0</td>\n",
              "      <td>3</td>\n",
              "    </tr>\n",
              "    <tr>\n",
              "      <th>1048573</th>\n",
              "      <td>2</td>\n",
              "      <td>2</td>\n",
              "      <td>0</td>\n",
              "      <td>1</td>\n",
              "      <td>7</td>\n",
              "      <td>109</td>\n",
              "      <td>2</td>\n",
              "      <td>1</td>\n",
              "      <td>2</td>\n",
              "      <td>143</td>\n",
              "      <td>86</td>\n",
              "      <td>1</td>\n",
              "      <td>1</td>\n",
              "      <td>27521.41</td>\n",
              "      <td>0.245846</td>\n",
              "      <td>1</td>\n",
              "      <td>3</td>\n",
              "    </tr>\n",
              "    <tr>\n",
              "      <th>1048574</th>\n",
              "      <td>2</td>\n",
              "      <td>3</td>\n",
              "      <td>1</td>\n",
              "      <td>1</td>\n",
              "      <td>7</td>\n",
              "      <td>28</td>\n",
              "      <td>0</td>\n",
              "      <td>1</td>\n",
              "      <td>2</td>\n",
              "      <td>106</td>\n",
              "      <td>0</td>\n",
              "      <td>1</td>\n",
              "      <td>1</td>\n",
              "      <td>24832.23</td>\n",
              "      <td>0.200331</td>\n",
              "      <td>1</td>\n",
              "      <td>2</td>\n",
              "    </tr>\n",
              "  </tbody>\n",
              "</table>\n",
              "<p>1024434 rows × 17 columns</p>\n",
              "</div>"
            ],
            "text/plain": [
              "         Hospital_County  Age  ...  Result  Payment_Typology\n",
              "0                      1    2  ...       1                 1\n",
              "1                      1    4  ...       1                 1\n",
              "2                      1    2  ...       1                 1\n",
              "3                      1    0  ...       0                 1\n",
              "4                      1    4  ...       1                 1\n",
              "...                  ...  ...  ...     ...               ...\n",
              "1048570                2    4  ...       1                 3\n",
              "1048571                2    0  ...       1                 3\n",
              "1048572                2    3  ...       0                 3\n",
              "1048573                2    2  ...       1                 3\n",
              "1048574                2    3  ...       1                 2\n",
              "\n",
              "[1024434 rows x 17 columns]"
            ]
          },
          "metadata": {
            "tags": []
          },
          "execution_count": 29
        }
      ]
    },
    {
      "cell_type": "code",
      "metadata": {
        "colab": {
          "base_uri": "https://localhost:8080/"
        },
        "id": "eALe-XDfgeIO",
        "outputId": "71f10d90-c351-498f-9750-ec9f873e6ba7"
      },
      "source": [
        "fraud.shape"
      ],
      "execution_count": null,
      "outputs": [
        {
          "output_type": "execute_result",
          "data": {
            "text/plain": [
              "(1024434, 17)"
            ]
          },
          "metadata": {
            "tags": []
          },
          "execution_count": 30
        }
      ]
    },
    {
      "cell_type": "markdown",
      "metadata": {
        "id": "zbadQNpKIHRq"
      },
      "source": [
        "## Feature Selection(Extra Trees Classifier)"
      ]
    },
    {
      "cell_type": "code",
      "metadata": {
        "id": "6PpHoiyGgeIP"
      },
      "source": [
        "x = fraud.drop(['Result'],axis = 1)# independent features\n",
        "y = fraud['Result']# dependent feature"
      ],
      "execution_count": null,
      "outputs": []
    },
    {
      "cell_type": "code",
      "metadata": {
        "colab": {
          "background_save": true
        },
        "id": "LBn30FL9ovWt",
        "outputId": "293ec52d-445b-407e-bf57-ddcfed59a67c"
      },
      "source": [
        "#Feature Importance:\n",
        "model = ExtraTreesClassifier()\n",
        "model.fit(X,y)"
      ],
      "execution_count": null,
      "outputs": [
        {
          "output_type": "execute_result",
          "data": {
            "text/plain": [
              "ExtraTreesClassifier(bootstrap=False, ccp_alpha=0.0, class_weight=None,\n",
              "                     criterion='gini', max_depth=None, max_features='auto',\n",
              "                     max_leaf_nodes=None, max_samples=None,\n",
              "                     min_impurity_decrease=0.0, min_impurity_split=None,\n",
              "                     min_samples_leaf=1, min_samples_split=2,\n",
              "                     min_weight_fraction_leaf=0.0, n_estimators=100,\n",
              "                     n_jobs=None, oob_score=False, random_state=None, verbose=0,\n",
              "                     warm_start=False)"
            ]
          },
          "metadata": {
            "tags": []
          },
          "execution_count": 0
        }
      ]
    },
    {
      "cell_type": "code",
      "metadata": {
        "colab": {
          "base_uri": "https://localhost:8080/"
        },
        "id": "Dbpdylmtpe05",
        "outputId": "799a74cd-2b9d-4785-ba72-bca09c0f6dca"
      },
      "source": [
        "print(model.feature_importances_) "
      ],
      "execution_count": null,
      "outputs": [
        {
          "output_type": "stream",
          "text": [
            "[0.08104094 0.03012766 0.01054035 0.00938228 0.04166692 0.07137619\n",
            " 0.00187945 0.00307241 0.10285759 0.08479726 0.05833225 0.02216489\n",
            " 0.01461264 0.22244747 0.21677554 0.02892616]\n"
          ],
          "name": "stdout"
        }
      ]
    },
    {
      "cell_type": "code",
      "metadata": {
        "colab": {
          "base_uri": "https://localhost:8080/",
          "height": 700
        },
        "id": "cLicZVHPpe40",
        "outputId": "d1a52a47-591b-475f-9684-f2f05a00e7cd"
      },
      "source": [
        "#plot graph of feature importances for better visualization\n",
        "feat_importances = pd.Series(model.feature_importances_, index=X.columns)\n",
        "plt.figure(figsize=(10,12))\n",
        "feat_importances.nlargest(20).plot(kind='barh')\n",
        "plt.show()"
      ],
      "execution_count": null,
      "outputs": [
        {
          "output_type": "display_data",
          "data": {
            "image/png": "[encoded data removed]",
            "text/plain": [
              "<Figure size 720x864 with 1 Axes>"
            ]
          },
          "metadata": {
            "tags": [],
            "needs_background": "light"
          }
        }
      ]
    },
    {
      "cell_type": "code",
      "metadata": {
        "id": "yJdhKgllpe9G"
      },
      "source": [
        "X=x.drop(['Surg_Description'],axis=1)"
      ],
      "execution_count": null,
      "outputs": []
    },
    {
      "cell_type": "markdown",
      "metadata": {
        "id": "BG7U-bgK0WW6"
      },
      "source": [
        "## Check whether the data is balanced or not"
      ]
    },
    {
      "cell_type": "code",
      "metadata": {
        "colab": {
          "base_uri": "https://localhost:8080/",
          "height": 299
        },
        "id": "OvaB2QLrM8bq",
        "outputId": "97626c40-c92d-4a38-dabc-e67d0b43a090"
      },
      "source": [
        "bar = fraud.groupby(\"Result\").count().iloc[:,0]\n",
        "t=sns.barplot(x = bar.index, y=bar.values)\n",
        "t.set_xticklabels(['Fraud','Genuine'])"
      ],
      "execution_count": null,
      "outputs": [
        {
          "output_type": "execute_result",
          "data": {
            "text/plain": [
              "[Text(0, 0, 'Fraud'), Text(0, 0, 'Genuine')]"
            ]
          },
          "metadata": {
            "tags": []
          },
          "execution_count": 38
        },
        {
          "output_type": "display_data",
          "data": {
            "image/png": "[encoded data removed]",
            "text/plain": [
              "<Figure size 432x288 with 1 Axes>"
            ]
          },
          "metadata": {
            "tags": [],
            "needs_background": "light"
          }
        }
      ]
    },
    {
      "cell_type": "code",
      "metadata": {
        "colab": {
          "base_uri": "https://localhost:8080/"
        },
        "id": "hVHc_Vm3EPqL",
        "outputId": "57345f68-80fd-43fd-9110-ba254992bbee"
      },
      "source": [
        "y.value_counts(normalize=True)"
      ],
      "execution_count": null,
      "outputs": [
        {
          "output_type": "execute_result",
          "data": {
            "text/plain": [
              "1    0.748505\n",
              "0    0.251495\n",
              "Name: Result, dtype: float64"
            ]
          },
          "metadata": {
            "tags": []
          },
          "execution_count": 37
        }
      ]
    },
    {
      "cell_type": "markdown",
      "metadata": {
        "id": "7LKiom2czvJb"
      },
      "source": [
        "### Here we can see that our data is highly imbalanced."
      ]
    },
    {
      "cell_type": "markdown",
      "metadata": {
        "id": "yu6eiOJC1Tq6"
      },
      "source": [
        "## Spliting the data into training and Testing datset to avoid overfitting."
      ]
    },
    {
      "cell_type": "code",
      "metadata": {
        "id": "VKPJsIby3624"
      },
      "source": [
        "from sklearn.model_selection import train_test_split\n",
        "X_train,X_test,y_train,y_test=train_test_split(X,y,test_size=0.33,random_state=None)"
      ],
      "execution_count": 91,
      "outputs": []
    },
    {
      "cell_type": "markdown",
      "metadata": {
        "id": "IIt40iGS14Fj"
      },
      "source": [
        "## Handling The Imbalanced Data Using SMOTE\n",
        "As our data is highly imbalnced we are using SMOTE method for handling it."
      ]
    },
    {
      "cell_type": "code",
      "metadata": {
        "id": "f8noLERv4Bpv",
        "colab": {
          "base_uri": "https://localhost:8080/"
        },
        "outputId": "3f6dc46d-70e1-4454-db69-cbc8ecca07c0"
      },
      "source": [
        "## SMOTE to handle imbalanced data\n",
        "from collections import Counter\n",
        "Counter(y_train)"
      ],
      "execution_count": 92,
      "outputs": [
        {
          "output_type": "execute_result",
          "data": {
            "text/plain": [
              "Counter({0: 172503, 1: 513867})"
            ]
          },
          "metadata": {
            "tags": []
          },
          "execution_count": 92
        }
      ]
    },
    {
      "cell_type": "code",
      "metadata": {
        "colab": {
          "base_uri": "https://localhost:8080/"
        },
        "id": "E6bJ3R9neZ4L",
        "outputId": "aae3c805-1ea4-43d7-a595-b2e9db5c7e6d"
      },
      "source": [
        "from imblearn.over_sampling import RandomOverSampler, SMOTE\n",
        "smote = SMOTE(random_state=50)\n",
        "print(\"The number of classes before fit {}\".format(Counter(y_train)))\n",
        "train_df_smote, y_smote = smote.fit_resample(X_train, y_train)\n",
        "\n",
        "X_train = train_df_smote\n",
        "y_train = y_smote\n",
        "\n",
        "y_train_org = np.argmax(y_train, axis=-1)\n",
        "\n",
        "\n",
        "print(\"The number of classes after fit {}\".format(Counter(y_train)))"
      ],
      "execution_count": 93,
      "outputs": [
        {
          "output_type": "stream",
          "text": [
            "The number of classes before fit Counter({1: 513867, 0: 172503})\n",
            "The number of classes after fit Counter({1: 513867, 0: 513867})\n"
          ],
          "name": "stdout"
        }
      ]
    },
    {
      "cell_type": "code",
      "metadata": {
        "colab": {
          "base_uri": "https://localhost:8080/"
        },
        "id": "yS_Irw47eZ_W",
        "outputId": "c7d4bb2a-5ff9-4d3d-a326-6f64f8d390e9"
      },
      "source": [
        "print(\"The number of classes before fit {}\".format(Counter(y_test)))\n",
        "test_df_smote, y_smote = smote.fit_resample(X_test, y_test)\n",
        "\n",
        "X_test = test_df_smote\n",
        "y_test = y_smote\n",
        "\n",
        "y_test_org = np.argmax(y_test, axis=-1)\n",
        "\n",
        "\n",
        "print(\"The number of classes after fit {}\".format(Counter(y_test)))"
      ],
      "execution_count": 94,
      "outputs": [
        {
          "output_type": "stream",
          "text": [
            "The number of classes before fit Counter({1: 252927, 0: 85137})\n",
            "The number of classes after fit Counter({1: 252927, 0: 252927})\n"
          ],
          "name": "stdout"
        }
      ]
    },
    {
      "cell_type": "markdown",
      "metadata": {
        "id": "AP7wf1ndeUPc"
      },
      "source": [
        "# Model Building"
      ]
    },
    {
      "cell_type": "code",
      "metadata": {
        "id": "cM89hjJk4Hen"
      },
      "source": [
        "result_df = {\n",
        "    \"model\":[],\n",
        "    \"training_score\" :[],\n",
        "    \"testing_score\": []\n",
        "}\n",
        "\n",
        "def modify_result(model, trainSc, testSc):\n",
        "    result_df[\"model\"].append(model)\n",
        "    result_df[\"training_score\"].append(trainSc)\n",
        "    result_df[\"testing_score\"].append(testSc)"
      ],
      "execution_count": null,
      "outputs": []
    },
    {
      "cell_type": "markdown",
      "metadata": {
        "id": "5QWeaNW23ee7"
      },
      "source": [
        "## Random Forest Classifier"
      ]
    },
    {
      "cell_type": "code",
      "metadata": {
        "colab": {
          "base_uri": "https://localhost:8080/"
        },
        "id": "yDLCx-xceaGN",
        "outputId": "4676140e-ff75-4576-b412-cd9f49217818"
      },
      "source": [
        "#Random forest classifier after hyperparameter tunning\n",
        "from sklearn.ensemble import RandomForestClassifier\n",
        "classifier=RandomForestClassifier(n_estimators=20,max_features=8,min_samples_leaf=6,min_samples_split=5,n_jobs=-1)\n",
        "classifier.fit(X_train,y_train)"
      ],
      "execution_count": null,
      "outputs": [
        {
          "output_type": "execute_result",
          "data": {
            "text/plain": [
              "RandomForestClassifier(bootstrap=True, ccp_alpha=0.0, class_weight=None,\n",
              "                       criterion='gini', max_depth=None, max_features=8,\n",
              "                       max_leaf_nodes=None, max_samples=None,\n",
              "                       min_impurity_decrease=0.0, min_impurity_split=None,\n",
              "                       min_samples_leaf=6, min_samples_split=5,\n",
              "                       min_weight_fraction_leaf=0.0, n_estimators=20, n_jobs=-1,\n",
              "                       oob_score=False, random_state=None, verbose=0,\n",
              "                       warm_start=False)"
            ]
          },
          "metadata": {
            "tags": []
          },
          "execution_count": 38
        }
      ]
    },
    {
      "cell_type": "code",
      "metadata": {
        "id": "_pm4GPgLeaJa"
      },
      "source": [
        "from sklearn.metrics import roc_curve\n",
        "from sklearn.metrics import roc_auc_score\n",
        "from sklearn.metrics import accuracy_score,classification_report,confusion_matrix"
      ],
      "execution_count": null,
      "outputs": []
    },
    {
      "cell_type": "code",
      "metadata": {
        "colab": {
          "base_uri": "https://localhost:8080/"
        },
        "id": "Hf5yrWS4DLk5",
        "outputId": "e7a92ed3-a6bf-44a8-c646-c0907215b077"
      },
      "source": [
        "y_pred = classifier.predict(X_test)\n",
        "ytrain_pred =classifier.predict_proba(X_train)\n",
        "ytest_pred = classifier.predict_proba(X_test)\n",
        "print(\"Training Score: {}\".format(roc_auc_score(y_train, ytrain_pred[:,1])))\n",
        "print(\"Testing Score:{}\". format(roc_auc_score(y_test, ytest_pred[:,1])))\n",
        "modify_result(\"Random forest classifier\",\n",
        "             accuracy_score(classifier.predict(X_train), y_train),\n",
        "             accuracy_score(y_test,y_pred))"
      ],
      "execution_count": null,
      "outputs": [
        {
          "output_type": "stream",
          "text": [
            "Training Score: 0.9886658783365289\n",
            "Testing Score:0.828141621564847\n"
          ],
          "name": "stdout"
        }
      ]
    },
    {
      "cell_type": "code",
      "metadata": {
        "colab": {
          "base_uri": "https://localhost:8080/"
        },
        "id": "fGSEcVGFTlhs",
        "outputId": "61630211-02a8-42c6-c6b1-3900144d2c7d"
      },
      "source": [
        "y_pred=classifier.predict(X_train)\n",
        "print(confusion_matrix(y_train,y_pred))\n",
        "print(accuracy_score(y_train,y_pred))\n",
        "print(classification_report(y_train,y_pred))"
      ],
      "execution_count": null,
      "outputs": [
        {
          "output_type": "stream",
          "text": [
            "[[379100 134286]\n",
            " [  1994 511392]]\n",
            "0.867273357668499\n",
            "              precision    recall  f1-score   support\n",
            "\n",
            "           0       0.99      0.74      0.85    513386\n",
            "           1       0.79      1.00      0.88    513386\n",
            "\n",
            "    accuracy                           0.87   1026772\n",
            "   macro avg       0.89      0.87      0.87   1026772\n",
            "weighted avg       0.89      0.87      0.87   1026772\n",
            "\n"
          ],
          "name": "stdout"
        }
      ]
    },
    {
      "cell_type": "code",
      "metadata": {
        "colab": {
          "base_uri": "https://localhost:8080/"
        },
        "id": "wIPIx786uuyn",
        "outputId": "3fe5526c-40ec-484f-8bf6-891b7c5fac3d"
      },
      "source": [
        "y_pred=classifier.predict(X_test)\n",
        "print(confusion_matrix(y_test,y_pred))\n",
        "print(accuracy_score(y_test,y_pred))\n",
        "print(classification_report(y_test,y_pred))"
      ],
      "execution_count": null,
      "outputs": [
        {
          "output_type": "stream",
          "text": [
            "[[166707  86701]\n",
            " [  4177 249231]]\n",
            "0.820688376057583\n",
            "              precision    recall  f1-score   support\n",
            "\n",
            "           0       0.98      0.66      0.79    253408\n",
            "           1       0.74      0.98      0.85    253408\n",
            "\n",
            "    accuracy                           0.82    506816\n",
            "   macro avg       0.86      0.82      0.82    506816\n",
            "weighted avg       0.86      0.82      0.82    506816\n",
            "\n"
          ],
          "name": "stdout"
        }
      ]
    },
    {
      "cell_type": "markdown",
      "metadata": {
        "id": "_SWULong3rwv"
      },
      "source": [
        "## XGBoost Classifier"
      ]
    },
    {
      "cell_type": "code",
      "metadata": {
        "colab": {
          "base_uri": "https://localhost:8080/"
        },
        "id": "d5Tlg-RxeaPe",
        "outputId": "b16cb21c-a372-4a41-8c5d-3f19f51c50fd"
      },
      "source": [
        "\n",
        "import xgboost \n",
        "from xgboost import XGBClassifier\n",
        "clf =XGBClassifier(base_score=0.5, booster='dart', colsample_bylevel=1,\n",
        "              colsample_bynode=1, colsample_bytree=1, gamma=0,eval_metric='auc',\n",
        "              learning_rate=0.1, max_delta_step=0, max_depth=3,\n",
        "              min_child_weight=0, missing=None, n_estimators=300, n_jobs=1,\n",
        "              nthread=None, objective='binary:logistic', random_state=100,\n",
        "              reg_alpha=0, reg_lambda=1, scale_pos_weight=1, seed=10,\n",
        "              silent=None, subsample=1, verbosity=1)\n",
        "clf.fit(X_train, y_train)"
      ],
      "execution_count": 95,
      "outputs": [
        {
          "output_type": "execute_result",
          "data": {
            "text/plain": [
              "XGBClassifier(base_score=0.5, booster='dart', colsample_bylevel=1,\n",
              "              colsample_bynode=1, colsample_bytree=1, eval_metric='auc',\n",
              "              gamma=0, learning_rate=0.1, max_delta_step=0, max_depth=3,\n",
              "              min_child_weight=0, missing=None, n_estimators=300, n_jobs=1,\n",
              "              nthread=None, objective='binary:logistic', random_state=100,\n",
              "              reg_alpha=0, reg_lambda=1, scale_pos_weight=1, seed=10,\n",
              "              silent=None, subsample=1, verbosity=1)"
            ]
          },
          "metadata": {
            "tags": []
          },
          "execution_count": 95
        }
      ]
    },
    {
      "cell_type": "code",
      "metadata": {
        "colab": {
          "base_uri": "https://localhost:8080/"
        },
        "id": "9tW_Lz1tlPF_",
        "outputId": "34613be3-c978-4d81-d69f-a486cbe76c57"
      },
      "source": [
        "y_pred = clf.predict(X_test)\n",
        "ytrain_pred =clf.predict_proba(X_train)\n",
        "ytest_pred = clf.predict_proba(X_test)\n",
        "print(\"Training Score: {}\".format(roc_auc_score(y_train, ytrain_pred[:,1])))\n",
        "print(\"Testing Score:{}\". format(roc_auc_score(y_test, ytest_pred[:,1])))\n",
        "modify_result(\"XGBoost\",\n",
        "             accuracy_score(clf.predict(X_train), y_train),\n",
        "             accuracy_score(y_test,y_pred))"
      ],
      "execution_count": 96,
      "outputs": [
        {
          "output_type": "stream",
          "text": [
            "Training Score: 0.83499434920546\n",
            "Testing Score:0.8321709507716197\n"
          ],
          "name": "stdout"
        }
      ]
    },
    {
      "cell_type": "code",
      "metadata": {
        "colab": {
          "base_uri": "https://localhost:8080/"
        },
        "id": "YBjL3MX_UAUs",
        "outputId": "9dfc1982-9726-44fb-f530-41870bc5e8eb"
      },
      "source": [
        "y_pred=clf.predict(X_train)\n",
        "print(confusion_matrix(y_train,y_pred))\n",
        "print(accuracy_score(y_train,y_pred))\n",
        "print(classification_report(y_train,y_pred))"
      ],
      "execution_count": 97,
      "outputs": [
        {
          "output_type": "stream",
          "text": [
            "[[334404 179463]\n",
            " [    32 513835]]\n",
            "0.8253487770181779\n",
            "              precision    recall  f1-score   support\n",
            "\n",
            "           0       1.00      0.65      0.79    513867\n",
            "           1       0.74      1.00      0.85    513867\n",
            "\n",
            "    accuracy                           0.83   1027734\n",
            "   macro avg       0.87      0.83      0.82   1027734\n",
            "weighted avg       0.87      0.83      0.82   1027734\n",
            "\n"
          ],
          "name": "stdout"
        }
      ]
    },
    {
      "cell_type": "code",
      "metadata": {
        "colab": {
          "base_uri": "https://localhost:8080/"
        },
        "id": "ODzzw7kqAv4s",
        "outputId": "8d75e29e-bbb9-46ea-cbf8-0f6a1c9f5240"
      },
      "source": [
        "y_pred=clf.predict(X_test)\n",
        "print(confusion_matrix(y_test,y_pred))\n",
        "print(accuracy_score(y_test,y_pred))\n",
        "print(classification_report(y_test,y_pred))"
      ],
      "execution_count": null,
      "outputs": [
        {
          "output_type": "stream",
          "text": [
            "[[165886  87522]\n",
            " [    26 253382]]\n",
            "0.8272588079302943\n",
            "              precision    recall  f1-score   support\n",
            "\n",
            "           0       1.00      0.65      0.79    253408\n",
            "           1       0.74      1.00      0.85    253408\n",
            "\n",
            "    accuracy                           0.83    506816\n",
            "   macro avg       0.87      0.83      0.82    506816\n",
            "weighted avg       0.87      0.83      0.82    506816\n",
            "\n"
          ],
          "name": "stdout"
        }
      ]
    },
    {
      "cell_type": "markdown",
      "metadata": {
        "id": "9QdWqvNB8uDW"
      },
      "source": [
        "### Hyperparameter optimization using RandomizedSearchCV in XGBoost"
      ]
    },
    {
      "cell_type": "code",
      "metadata": {
        "id": "E9q6PL5Pg8_H"
      },
      "source": [
        "## Hyperparameter optimization using RandomizedSearchCV\n",
        "from sklearn.model_selection import RandomizedSearchCV\n",
        "params={\n",
        " \"learning_rate\"    : [0.05, 0.10, 0.15, 0.20, 0.25, 0.30 ] ,\n",
        " \"max_depth\"        : [ 3, 4, 5, 6, 8, 10, 12, 15],\n",
        " \"min_child_weight\" : [ 1, 3, 5, 7 ],\n",
        " \"gamma\"            : [ 0.0, 0.1, 0.2 , 0.3, 0.4 ],\n",
        " \"colsample_bytree\" : [ 0.3, 0.4, 0.5 , 0.7 ]\n",
        "}"
      ],
      "execution_count": null,
      "outputs": []
    },
    {
      "cell_type": "code",
      "metadata": {
        "id": "83DU4LaAidNU"
      },
      "source": [
        "classifier=xgboost.XGBClassifier()\n",
        "random_search=RandomizedSearchCV(classifier,param_distributions=params,n_iter=5,scoring='roc_auc',n_jobs=-1,refit=True,cv=10,verbose=3)"
      ],
      "execution_count": null,
      "outputs": []
    },
    {
      "cell_type": "code",
      "metadata": {
        "colab": {
          "base_uri": "https://localhost:8080/"
        },
        "id": "4LOvmpPlidQT",
        "outputId": "1b21e291-04c3-42ad-814e-42b00d5dacd2"
      },
      "source": [
        "random_search.get_params"
      ],
      "execution_count": null,
      "outputs": [
        {
          "output_type": "execute_result",
          "data": {
            "text/plain": [
              "<bound method BaseEstimator.get_params of RandomizedSearchCV(cv=10, error_score=nan,\n",
              "                   estimator=XGBClassifier(base_score=0.5, booster='gbtree',\n",
              "                                           colsample_bylevel=1,\n",
              "                                           colsample_bynode=1,\n",
              "                                           colsample_bytree=1, gamma=0,\n",
              "                                           learning_rate=0.1, max_delta_step=0,\n",
              "                                           max_depth=3, min_child_weight=1,\n",
              "                                           missing=None, n_estimators=100,\n",
              "                                           n_jobs=1, nthread=None,\n",
              "                                           objective='binary:logistic',\n",
              "                                           random_state=0, reg_alpha=0,\n",
              "                                           reg_lambda=1, s...\n",
              "                                           verbosity=1),\n",
              "                   iid='deprecated', n_iter=5, n_jobs=-1,\n",
              "                   param_distributions={'colsample_bytree': [0.3, 0.4, 0.5,\n",
              "                                                             0.7],\n",
              "                                        'gamma': [0.0, 0.1, 0.2, 0.3, 0.4],\n",
              "                                        'learning_rate': [0.05, 0.1, 0.15, 0.2,\n",
              "                                                          0.25, 0.3],\n",
              "                                        'max_depth': [3, 4, 5, 6, 8, 10, 12,\n",
              "                                                      15],\n",
              "                                        'min_child_weight': [1, 3, 5, 7]},\n",
              "                   pre_dispatch='2*n_jobs', random_state=None, refit=True,\n",
              "                   return_train_score=False, scoring='roc_auc', verbose=3)>"
            ]
          },
          "metadata": {
            "tags": []
          },
          "execution_count": 109
        }
      ]
    },
    {
      "cell_type": "code",
      "metadata": {
        "colab": {
          "base_uri": "https://localhost:8080/"
        },
        "id": "aGuAppMFidTq",
        "outputId": "d56f1336-d012-4a65-e665-b9076dc47f3e"
      },
      "source": [
        "random_search.estimator"
      ],
      "execution_count": null,
      "outputs": [
        {
          "output_type": "execute_result",
          "data": {
            "text/plain": [
              "XGBClassifier(base_score=0.5, booster='gbtree', colsample_bylevel=1,\n",
              "              colsample_bynode=1, colsample_bytree=1, gamma=0,\n",
              "              learning_rate=0.1, max_delta_step=0, max_depth=3,\n",
              "              min_child_weight=1, missing=None, n_estimators=100, n_jobs=1,\n",
              "              nthread=None, objective='binary:logistic', random_state=0,\n",
              "              reg_alpha=0, reg_lambda=1, scale_pos_weight=1, seed=None,\n",
              "              silent=None, subsample=1, verbosity=1)"
            ]
          },
          "metadata": {
            "tags": []
          },
          "execution_count": 110
        }
      ]
    },
    {
      "cell_type": "code",
      "metadata": {
        "colab": {
          "base_uri": "https://localhost:8080/"
        },
        "id": "1rc435QzirAL",
        "outputId": "7ab4c840-7dad-47ad-b882-b05c5b57533d"
      },
      "source": [
        "\n",
        "classifier=xgboost.XGBClassifier(base_score=0.5, booster='dart', colsample_bylevel=1,\n",
        "              colsample_bynode=1, colsample_bytree=1, gamma=0,eval_metric='auc',\n",
        "              learning_rate=0.1, max_delta_step=0, max_depth=3,\n",
        "              min_child_weight=0, missing=None, n_estimators=300, n_jobs=1,\n",
        "              nthread=None, objective='binary:logistic', random_state=100,\n",
        "              reg_alpha=0, reg_lambda=1, scale_pos_weight=1, seed=10,\n",
        "              silent=None, subsample=1, verbosity=1)\n",
        "classifier.fit(X_train,y_train)"
      ],
      "execution_count": null,
      "outputs": [
        {
          "output_type": "execute_result",
          "data": {
            "text/plain": [
              "XGBClassifier(base_score=0.5, booster='dart', colsample_bylevel=1,\n",
              "              colsample_bynode=1, colsample_bytree=1, eval_metric='auc',\n",
              "              gamma=0, learning_rate=0.1, max_delta_step=0, max_depth=3,\n",
              "              min_child_weight=0, missing=None, n_estimators=300, n_jobs=1,\n",
              "              nthread=None, objective='binary:logistic', random_state=100,\n",
              "              reg_alpha=0, reg_lambda=1, scale_pos_weight=1, seed=10,\n",
              "              silent=None, subsample=1, verbosity=1)"
            ]
          },
          "metadata": {
            "tags": []
          },
          "execution_count": 111
        }
      ]
    },
    {
      "cell_type": "code",
      "metadata": {
        "colab": {
          "base_uri": "https://localhost:8080/"
        },
        "id": "JaU9PAaHvdoJ",
        "outputId": "5e39cb66-baa2-4c0e-8f71-523eb13532ea"
      },
      "source": [
        "y_pred=classifier.predict(X_test)\n",
        "print(confusion_matrix(y_test,y_pred))\n",
        "print(accuracy_score(y_test,y_pred))\n",
        "print(classification_report(y_test,y_pred))"
      ],
      "execution_count": null,
      "outputs": [
        {
          "output_type": "stream",
          "text": [
            "[[100044  53261]\n",
            " [    13 153292]]\n",
            "0.8262483284954829\n",
            "              precision    recall  f1-score   support\n",
            "\n",
            "           0       1.00      0.65      0.79    153305\n",
            "           1       0.74      1.00      0.85    153305\n",
            "\n",
            "    accuracy                           0.83    306610\n",
            "   macro avg       0.87      0.83      0.82    306610\n",
            "weighted avg       0.87      0.83      0.82    306610\n",
            "\n"
          ],
          "name": "stdout"
        }
      ]
    },
    {
      "cell_type": "markdown",
      "metadata": {
        "id": "5O0-Hu804Uf8"
      },
      "source": [
        "##Gradient Boosting Classifier"
      ]
    },
    {
      "cell_type": "code",
      "metadata": {
        "id": "QBQXE_ARf5yy",
        "colab": {
          "base_uri": "https://localhost:8080/",
          "height": 296
        },
        "outputId": "0e7e82f0-5b9f-42a1-e704-c3df4adc5421"
      },
      "source": [
        "#Gradient Boosting\n",
        "from sklearn.ensemble import GradientBoostingClassifier\n",
        "from sklearn.metrics import accuracy_score, confusion_matrix\n",
        "clf_gr = GradientBoostingClassifier(n_estimators= 100,learning_rate =0.01, max_depth = 3, random_state = 0)\n",
        "clf_gr.fit(X_train, y_train)\n",
        "\n",
        "pred_gr = clf_gr.predict(X_test)\n",
        "\n",
        "print('(learning_rate=0.01, max_depth=2)')\n",
        "print('Accuracy of GBDT classifier on training set: {:.2f}'\n",
        "     .format(clf_gr.score(X_train, y_train)))\n",
        "print('Accuracy of GBDT classifier on test set: {}'\n",
        "     .format(clf_gr.score(X_test, y_test)))\n",
        "print('Accuracy score: {}'.format(accuracy_score(y_test, pred_gr)))\n",
        "\n",
        "print('y_test and pred: {}'.format(y_test[:20]))\n",
        "print('pred: {}'.format(pred_gr))\n",
        "from sklearn.metrics import classification_report\n",
        "reportLReg_gf = classification_report(y_test, pred_gr, output_dict=True)\n",
        "crLReg_gf = pd.DataFrame(reportLReg_gf).transpose()\n",
        "crLReg_gf\n"
      ],
      "execution_count": null,
      "outputs": [
        {
          "output_type": "stream",
          "text": [
            "(learning_rate=0.01, max_depth=2)\n",
            "Accuracy of GBDT classifier on training set: 0.77\n",
            "Accuracy of GBDT classifier on test set: 0.7753563423412047\n",
            "Accuracy score: 0.7753563423412047\n",
            "y_test and pred: [1 0 1 1 1 1 1 0 0 1 1 0 1 1 1 1 1 0 1 0]\n",
            "pred: [1 1 1 ... 0 1 0]\n"
          ],
          "name": "stdout"
        },
        {
          "output_type": "execute_result",
          "data": {
            "text/html": [
              "<div>\n",
              "<style scoped>\n",
              "    .dataframe tbody tr th:only-of-type {\n",
              "        vertical-align: middle;\n",
              "    }\n",
              "\n",
              "    .dataframe tbody tr th {\n",
              "        vertical-align: top;\n",
              "    }\n",
              "\n",
              "    .dataframe thead th {\n",
              "        text-align: right;\n",
              "    }\n",
              "</style>\n",
              "<table border=\"1\" class=\"dataframe\">\n",
              "  <thead>\n",
              "    <tr style=\"text-align: right;\">\n",
              "      <th></th>\n",
              "      <th>precision</th>\n",
              "      <th>recall</th>\n",
              "      <th>f1-score</th>\n",
              "      <th>support</th>\n",
              "    </tr>\n",
              "  </thead>\n",
              "  <tbody>\n",
              "    <tr>\n",
              "      <th>0</th>\n",
              "      <td>1.000000</td>\n",
              "      <td>0.550713</td>\n",
              "      <td>0.710270</td>\n",
              "      <td>253408.000000</td>\n",
              "    </tr>\n",
              "    <tr>\n",
              "      <th>1</th>\n",
              "      <td>0.689994</td>\n",
              "      <td>1.000000</td>\n",
              "      <td>0.816564</td>\n",
              "      <td>253408.000000</td>\n",
              "    </tr>\n",
              "    <tr>\n",
              "      <th>accuracy</th>\n",
              "      <td>0.775356</td>\n",
              "      <td>0.775356</td>\n",
              "      <td>0.775356</td>\n",
              "      <td>0.775356</td>\n",
              "    </tr>\n",
              "    <tr>\n",
              "      <th>macro avg</th>\n",
              "      <td>0.844997</td>\n",
              "      <td>0.775356</td>\n",
              "      <td>0.763417</td>\n",
              "      <td>506816.000000</td>\n",
              "    </tr>\n",
              "    <tr>\n",
              "      <th>weighted avg</th>\n",
              "      <td>0.844997</td>\n",
              "      <td>0.775356</td>\n",
              "      <td>0.763417</td>\n",
              "      <td>506816.000000</td>\n",
              "    </tr>\n",
              "  </tbody>\n",
              "</table>\n",
              "</div>"
            ],
            "text/plain": [
              "              precision    recall  f1-score        support\n",
              "0              1.000000  0.550713  0.710270  253408.000000\n",
              "1              0.689994  1.000000  0.816564  253408.000000\n",
              "accuracy       0.775356  0.775356  0.775356       0.775356\n",
              "macro avg      0.844997  0.775356  0.763417  506816.000000\n",
              "weighted avg   0.844997  0.775356  0.763417  506816.000000"
            ]
          },
          "metadata": {
            "tags": []
          },
          "execution_count": 47
        }
      ]
    },
    {
      "cell_type": "code",
      "metadata": {
        "colab": {
          "base_uri": "https://localhost:8080/"
        },
        "id": "XL6b8dQVCQmT",
        "outputId": "792ad134-ee74-48a3-9feb-2d915fb252cc"
      },
      "source": [
        "y_pred = clf_gr.predict(X_test)\n",
        "ytrain_pred =clf_gr.predict_proba(X_train)\n",
        "ytest_pred = clf_gr.predict_proba(X_test)\n",
        "print(\"Training Score: {}\".format(roc_auc_score(y_train, ytrain_pred[:,1])))\n",
        "print(\"Testing Score:{}\". format(roc_auc_score(y_test, ytest_pred[:,1])))\n",
        "modify_result(\"Gradient Boosting\",\n",
        "             accuracy_score(clf_gr.predict(X_train), y_train),\n",
        "             accuracy_score(y_test,y_pred))"
      ],
      "execution_count": null,
      "outputs": [
        {
          "output_type": "stream",
          "text": [
            "Training Score: 0.7996055308355632\n",
            "Testing Score:0.8028130966869635\n"
          ],
          "name": "stdout"
        }
      ]
    },
    {
      "cell_type": "code",
      "metadata": {
        "colab": {
          "base_uri": "https://localhost:8080/"
        },
        "id": "AJO9vfsF0gCc",
        "outputId": "77f383a6-5cab-4866-da1f-d0fe1a0cd191"
      },
      "source": [
        "y_pred=clf_gr.predict(X_test)\n",
        "print(confusion_matrix(y_test,y_pred))\n",
        "print(accuracy_score(y_test,y_pred))\n",
        "print(classification_report(y_test,y_pred))"
      ],
      "execution_count": null,
      "outputs": [
        {
          "output_type": "stream",
          "text": [
            "[[139555 113853]\n",
            " [     0 253408]]\n",
            "0.7753563423412047\n",
            "              precision    recall  f1-score   support\n",
            "\n",
            "           0       1.00      0.55      0.71    253408\n",
            "           1       0.69      1.00      0.82    253408\n",
            "\n",
            "    accuracy                           0.78    506816\n",
            "   macro avg       0.84      0.78      0.76    506816\n",
            "weighted avg       0.84      0.78      0.76    506816\n",
            "\n"
          ],
          "name": "stdout"
        }
      ]
    },
    {
      "cell_type": "markdown",
      "metadata": {
        "id": "hBBPrjRm4xk7"
      },
      "source": [
        "## Easy Ensemble Classifier"
      ]
    },
    {
      "cell_type": "code",
      "metadata": {
        "colab": {
          "base_uri": "https://localhost:8080/"
        },
        "id": "qjD7pBQEzDHf",
        "outputId": "7c2d769e-a115-47b7-fee0-c359e88f8360"
      },
      "source": [
        "#easy ensemble classifier\n",
        "from imblearn.ensemble import EasyEnsembleClassifier\n",
        "easy=EasyEnsembleClassifier( n_estimators=20, n_jobs=-1,random_state=42)\n",
        "easy.fit(X_train,y_train)"
      ],
      "execution_count": null,
      "outputs": [
        {
          "output_type": "execute_result",
          "data": {
            "text/plain": [
              "EasyEnsembleClassifier(base_estimator=None, n_estimators=20, n_jobs=-1,\n",
              "                       random_state=42, replacement=False,\n",
              "                       sampling_strategy='auto', verbose=0, warm_start=False)"
            ]
          },
          "metadata": {
            "tags": []
          },
          "execution_count": 50
        }
      ]
    },
    {
      "cell_type": "code",
      "metadata": {
        "colab": {
          "base_uri": "https://localhost:8080/"
        },
        "id": "n-uSqrBgB7Pp",
        "outputId": "39b04666-5783-4156-f028-f7d5c7adbd5c"
      },
      "source": [
        "y_pred = easy.predict(X_test)\n",
        "ytrain_pred =easy.predict_proba(X_train)\n",
        "ytest_pred = easy.predict_proba(X_test)\n",
        "print(\"Training Score: {}\".format(roc_auc_score(y_train, ytrain_pred[:,1])))\n",
        "print(\"Testing Score:{}\". format(roc_auc_score(y_test, ytest_pred[:,1])))\n",
        "modify_result(\"Easy Ensemble Classifier\",\n",
        "             accuracy_score(easy.predict(X_train), y_train),\n",
        "             accuracy_score(y_test,y_pred))"
      ],
      "execution_count": null,
      "outputs": [
        {
          "output_type": "stream",
          "text": [
            "Training Score: 0.8182399195146846\n",
            "Testing Score:0.8212281717099228\n"
          ],
          "name": "stdout"
        }
      ]
    },
    {
      "cell_type": "code",
      "metadata": {
        "colab": {
          "base_uri": "https://localhost:8080/"
        },
        "id": "N61wh99j2J7W",
        "outputId": "f60c04fe-cb1f-4f34-c1ee-c3f2f5ae961d"
      },
      "source": [
        "\n",
        "y_pred=easy.predict(X_test)\n",
        "print(confusion_matrix(y_test,y_pred))\n",
        "print(accuracy_score(y_test,y_pred))\n",
        "print(classification_report(y_test,y_pred))"
      ],
      "execution_count": null,
      "outputs": [
        {
          "output_type": "stream",
          "text": [
            "[[157843  95565]\n",
            " [  6210 247198]]\n",
            "0.799187476322768\n",
            "              precision    recall  f1-score   support\n",
            "\n",
            "           0       0.96      0.62      0.76    253408\n",
            "           1       0.72      0.98      0.83    253408\n",
            "\n",
            "    accuracy                           0.80    506816\n",
            "   macro avg       0.84      0.80      0.79    506816\n",
            "weighted avg       0.84      0.80      0.79    506816\n",
            "\n"
          ],
          "name": "stdout"
        }
      ]
    },
    {
      "cell_type": "markdown",
      "metadata": {
        "id": "tJYkQQPR44Ms"
      },
      "source": [
        "## Guassian Naive Bayes"
      ]
    },
    {
      "cell_type": "code",
      "metadata": {
        "colab": {
          "base_uri": "https://localhost:8080/"
        },
        "id": "CWQNMp6gzDPG",
        "outputId": "82ca61f7-03a8-40e6-b069-0a8e9daae8fb"
      },
      "source": [
        "#Guassian Naive Bayes\n",
        "from sklearn.naive_bayes import GaussianNB as GB\n",
        "classifier= GB()\n",
        "classifier.fit(X_train,y_train)"
      ],
      "execution_count": null,
      "outputs": [
        {
          "output_type": "execute_result",
          "data": {
            "text/plain": [
              "GaussianNB(priors=None, var_smoothing=1e-09)"
            ]
          },
          "metadata": {
            "tags": []
          },
          "execution_count": 54
        }
      ]
    },
    {
      "cell_type": "code",
      "metadata": {
        "colab": {
          "base_uri": "https://localhost:8080/"
        },
        "id": "LwZSkLAIBCSL",
        "outputId": "4e119c1b-78dd-41a6-c7f7-75020d01c3ab"
      },
      "source": [
        "y_pred = classifier.predict(X_test)\n",
        "ytrain_pred =classifier.predict_proba(X_train)\n",
        "ytest_pred = classifier.predict_proba(X_test)\n",
        "print(\"Training Score: {}\".format(roc_auc_score(y_train, ytrain_pred[:,1])))\n",
        "print(\"Testing Score:{}\". format(roc_auc_score(y_test, ytest_pred[:,1])))\n",
        "modify_result(\"Guassian Naive Bayes\",\n",
        "             accuracy_score(classifier.predict(X_train), y_train),\n",
        "             accuracy_score(y_test,y_pred))"
      ],
      "execution_count": null,
      "outputs": [
        {
          "output_type": "stream",
          "text": [
            "Training Score: 0.5547834742863293\n",
            "Testing Score:0.5603277088187298\n"
          ],
          "name": "stdout"
        }
      ]
    },
    {
      "cell_type": "code",
      "metadata": {
        "colab": {
          "base_uri": "https://localhost:8080/"
        },
        "id": "lTFGsprSE-84",
        "outputId": "291eda9b-a758-4b69-ffbf-46212912f22a"
      },
      "source": [
        "y_pred=classifier.predict(X_test)\n",
        "print(confusion_matrix(y_test,y_pred))\n",
        "print(accuracy_score(y_test,y_pred))\n",
        "print(classification_report(y_test,y_pred))"
      ],
      "execution_count": null,
      "outputs": [
        {
          "output_type": "stream",
          "text": [
            "[[219197  34211]\n",
            " [205334  48074]]\n",
            "0.5273531222376563\n",
            "              precision    recall  f1-score   support\n",
            "\n",
            "           0       0.52      0.86      0.65    253408\n",
            "           1       0.58      0.19      0.29    253408\n",
            "\n",
            "    accuracy                           0.53    506816\n",
            "   macro avg       0.55      0.53      0.47    506816\n",
            "weighted avg       0.55      0.53      0.47    506816\n",
            "\n"
          ],
          "name": "stdout"
        }
      ]
    },
    {
      "cell_type": "markdown",
      "metadata": {
        "id": "8rPK1tfM4_Vx"
      },
      "source": [
        "## AdaBoost Classifier"
      ]
    },
    {
      "cell_type": "code",
      "metadata": {
        "colab": {
          "base_uri": "https://localhost:8080/"
        },
        "id": "8dFnTC5fzDWI",
        "outputId": "90c4dd0f-6b4e-43d6-f8ad-d94573cf23e4"
      },
      "source": [
        "##Adaboost classification\n",
        "from sklearn.model_selection import KFold\n",
        "from sklearn.model_selection import cross_val_score\n",
        "from sklearn.ensemble import AdaBoostClassifier\n",
        "num_trees = 10\n",
        "seed=7\n",
        "kfold = KFold(n_splits=10, random_state=None)\n",
        "model = AdaBoostClassifier(n_estimators=num_trees, random_state=None)\n",
        "model.fit(X_train,y_train)"
      ],
      "execution_count": null,
      "outputs": [
        {
          "output_type": "execute_result",
          "data": {
            "text/plain": [
              "AdaBoostClassifier(algorithm='SAMME.R', base_estimator=None, learning_rate=1.0,\n",
              "                   n_estimators=10, random_state=None)"
            ]
          },
          "metadata": {
            "tags": []
          },
          "execution_count": 57
        }
      ]
    },
    {
      "cell_type": "code",
      "metadata": {
        "colab": {
          "base_uri": "https://localhost:8080/"
        },
        "id": "zLNuFc-s-r1w",
        "outputId": "0acf2f54-f40e-4978-ea78-4389734b4fad"
      },
      "source": [
        "y_pred = model.predict(X_test)\n",
        "ytrain_pred =model.predict_proba(X_train)\n",
        "ytest_pred = model.predict_proba(X_test)\n",
        "print(\"Training Score: {}\".format(roc_auc_score(y_train, ytrain_pred[:,1])))\n",
        "print(\"Testing Score:{}\". format(roc_auc_score(y_test, ytest_pred[:,1])))\n",
        "modify_result(\"Adaboost classifier\",\n",
        "             accuracy_score(model.predict(X_train), y_train),\n",
        "             accuracy_score(y_test,y_pred))"
      ],
      "execution_count": null,
      "outputs": [
        {
          "output_type": "stream",
          "text": [
            "Training Score: 0.7487393133144461\n",
            "Testing Score:0.7490460294196151\n"
          ],
          "name": "stdout"
        }
      ]
    },
    {
      "cell_type": "code",
      "metadata": {
        "colab": {
          "base_uri": "https://localhost:8080/"
        },
        "id": "9rOnBIUpFJOo",
        "outputId": "2d22cf47-bdfa-4f0c-ccb9-b91cef79656b"
      },
      "source": [
        "y_pred=model.predict(X_test)\n",
        "print(confusion_matrix(y_test,y_pred))\n",
        "print(accuracy_score(y_test,y_pred))\n",
        "print(classification_report(y_test,y_pred))"
      ],
      "execution_count": null,
      "outputs": [
        {
          "output_type": "stream",
          "text": [
            "[[130910 122498]\n",
            " [     0 253408]]\n",
            "0.7582988698067938\n",
            "              precision    recall  f1-score   support\n",
            "\n",
            "           0       1.00      0.52      0.68    253408\n",
            "           1       0.67      1.00      0.81    253408\n",
            "\n",
            "    accuracy                           0.76    506816\n",
            "   macro avg       0.84      0.76      0.74    506816\n",
            "weighted avg       0.84      0.76      0.74    506816\n",
            "\n"
          ],
          "name": "stdout"
        }
      ]
    },
    {
      "cell_type": "markdown",
      "metadata": {
        "id": "ZiskLRAA5IJ_"
      },
      "source": [
        "## Logistic Regression"
      ]
    },
    {
      "cell_type": "code",
      "metadata": {
        "colab": {
          "base_uri": "https://localhost:8080/"
        },
        "id": "cGWmQranzDej",
        "outputId": "d493fd72-e50c-42a9-9ace-3902dc00eaef"
      },
      "source": [
        "#logistic regression\n",
        "from sklearn.linear_model import LogisticRegression\n",
        "clf1=LogisticRegression()\n",
        "clf1.fit(X_train,y_train)"
      ],
      "execution_count": 107,
      "outputs": [
        {
          "output_type": "execute_result",
          "data": {
            "text/plain": [
              "LogisticRegression(C=1.0, class_weight=None, dual=False, fit_intercept=True,\n",
              "                   intercept_scaling=1, l1_ratio=None, max_iter=100,\n",
              "                   multi_class='auto', n_jobs=None, penalty='l2',\n",
              "                   random_state=None, solver='lbfgs', tol=0.0001, verbose=0,\n",
              "                   warm_start=False)"
            ]
          },
          "metadata": {
            "tags": []
          },
          "execution_count": 107
        }
      ]
    },
    {
      "cell_type": "code",
      "metadata": {
        "colab": {
          "base_uri": "https://localhost:8080/"
        },
        "id": "2dUFOmmi9W8e",
        "outputId": "83a50f6f-13d2-406f-d71e-f15fa2248684"
      },
      "source": [
        "y_pred = clf1.predict(X_test)\n",
        "ytrain_pred =clf.predict_proba(X_train)\n",
        "ytest_pred = clf.predict_proba(X_test)\n",
        "print(\"Training Score: {}\".format(roc_auc_score(y_train, ytrain_pred[:,1])))\n",
        "print(\"Testing Score:{}\". format(roc_auc_score(y_test, ytest_pred[:,1])))\n",
        "modify_result(\"Logistic Regression\",\n",
        "             accuracy_score(clf1.predict(X_train), y_train),\n",
        "             accuracy_score(y_test, y_pred))"
      ],
      "execution_count": 111,
      "outputs": [
        {
          "output_type": "stream",
          "text": [
            "Training Score: 0.83499434920546\n",
            "Testing Score:0.8321709507716197\n"
          ],
          "name": "stdout"
        }
      ]
    },
    {
      "cell_type": "code",
      "metadata": {
        "colab": {
          "base_uri": "https://localhost:8080/"
        },
        "id": "Lfpr_TcsFuHh",
        "outputId": "c6d05bab-3a71-4526-e7ad-d8481a3dbfa1"
      },
      "source": [
        "y_pred = clf1.predict(X_test)\n",
        "print(confusion_matrix(y_test,y_pred))\n",
        "print(accuracy_score(y_test,y_pred))\n",
        "print(classification_report(y_test,y_pred))"
      ],
      "execution_count": 112,
      "outputs": [
        {
          "output_type": "stream",
          "text": [
            "[[252927      0]\n",
            " [252927      0]]\n",
            "0.5\n",
            "              precision    recall  f1-score   support\n",
            "\n",
            "           0       0.50      1.00      0.67    252927\n",
            "           1       0.00      0.00      0.00    252927\n",
            "\n",
            "    accuracy                           0.50    505854\n",
            "   macro avg       0.25      0.50      0.33    505854\n",
            "weighted avg       0.25      0.50      0.33    505854\n",
            "\n"
          ],
          "name": "stdout"
        }
      ]
    },
    {
      "cell_type": "markdown",
      "metadata": {
        "id": "R9Fo6tyr5MDm"
      },
      "source": [
        "## KNeighbors Classifier"
      ]
    },
    {
      "cell_type": "code",
      "metadata": {
        "colab": {
          "base_uri": "https://localhost:8080/"
        },
        "id": "CpKcEU_R1RXj",
        "outputId": "f213d07e-4c7a-4f6a-f683-f033ce1e8448"
      },
      "source": [
        "#KNN\n",
        "from sklearn.neighbors import KNeighborsClassifier\n",
        "knn_classifier=KNeighborsClassifier()\n",
        "knn_classifier.fit(X_train, y_train)"
      ],
      "execution_count": null,
      "outputs": [
        {
          "output_type": "execute_result",
          "data": {
            "text/plain": [
              "KNeighborsClassifier(algorithm='auto', leaf_size=30, metric='minkowski',\n",
              "                     metric_params=None, n_jobs=None, n_neighbors=5, p=2,\n",
              "                     weights='uniform')"
            ]
          },
          "metadata": {
            "tags": []
          },
          "execution_count": 63
        }
      ]
    },
    {
      "cell_type": "code",
      "metadata": {
        "colab": {
          "base_uri": "https://localhost:8080/"
        },
        "id": "9utlIPN68Rzd",
        "outputId": "538dedbc-bcdf-4320-c731-4e6cc9361004"
      },
      "source": [
        "y_pred = knn_classifier.predict(X_test)\n",
        "ytrain_pred =knn_classifier.predict_proba(X_train)\n",
        "ytest_pred = knn_classifier.predict_proba(X_test)\n",
        "print(\"Training Score: {}\".format(roc_auc_score(y_train, ytrain_pred[:,1])))\n",
        "print(\"Testing Score:{}\". format(roc_auc_score(y_test, ytest_pred[:,1])))\n",
        "modify_result(\"KNN\",\n",
        "             accuracy_score(knn_classifier.predict(X_train), y_train),\n",
        "             accuracy_score(y_test, y_pred))"
      ],
      "execution_count": null,
      "outputs": [
        {
          "output_type": "stream",
          "text": [
            "Training Score: 0.9049405716070571\n",
            "Testing Score:0.5045093786755297\n"
          ],
          "name": "stdout"
        }
      ]
    },
    {
      "cell_type": "code",
      "metadata": {
        "colab": {
          "base_uri": "https://localhost:8080/"
        },
        "id": "MR_dVpr3F5BP",
        "outputId": "c7ece9df-b3e9-4a3b-f810-817351b06821"
      },
      "source": [
        "print(confusion_matrix(y_test,y_pred))\n",
        "print(accuracy_score(y_test,y_pred))\n",
        "print(classification_report(y_test,y_pred))"
      ],
      "execution_count": null,
      "outputs": [
        {
          "output_type": "stream",
          "text": [
            "[[112442 140966]\n",
            " [110629 142779]]\n",
            "0.5035772351306983\n",
            "              precision    recall  f1-score   support\n",
            "\n",
            "           0       0.50      0.44      0.47    253408\n",
            "           1       0.50      0.56      0.53    253408\n",
            "\n",
            "    accuracy                           0.50    506816\n",
            "   macro avg       0.50      0.50      0.50    506816\n",
            "weighted avg       0.50      0.50      0.50    506816\n",
            "\n"
          ],
          "name": "stdout"
        }
      ]
    },
    {
      "cell_type": "markdown",
      "metadata": {
        "id": "Jmgvmigk5XD4"
      },
      "source": [
        "## DecisionTree Classifier"
      ]
    },
    {
      "cell_type": "code",
      "metadata": {
        "colab": {
          "base_uri": "https://localhost:8080/"
        },
        "id": "26l_VT7b1Rdv",
        "outputId": "2108fc6c-c7e1-406e-9859-2619f87a1282"
      },
      "source": [
        "#Decision Tree Classifier\n",
        "from sklearn.tree import DecisionTreeClassifier\n",
        "model= DecisionTreeClassifier()\n",
        "model.fit(X_train, y_train)"
      ],
      "execution_count": 103,
      "outputs": [
        {
          "output_type": "execute_result",
          "data": {
            "text/plain": [
              "DecisionTreeClassifier(ccp_alpha=0.0, class_weight=None, criterion='gini',\n",
              "                       max_depth=None, max_features=None, max_leaf_nodes=None,\n",
              "                       min_impurity_decrease=0.0, min_impurity_split=None,\n",
              "                       min_samples_leaf=1, min_samples_split=2,\n",
              "                       min_weight_fraction_leaf=0.0, presort='deprecated',\n",
              "                       random_state=None, splitter='best')"
            ]
          },
          "metadata": {
            "tags": []
          },
          "execution_count": 103
        }
      ]
    },
    {
      "cell_type": "code",
      "metadata": {
        "id": "6Vmy8dRz5TCb",
        "colab": {
          "base_uri": "https://localhost:8080/"
        },
        "outputId": "d83f5cdf-abb8-4de4-c7d3-9624a1873ae0"
      },
      "source": [
        "y_pred = model.predict(X_test)\n",
        "ytrain_pred = model.predict_proba(X_train)\n",
        "ytest_pred = model.predict_proba(X_test)\n",
        "print(\"Training Score: {}\".format(roc_auc_score(y_train, ytrain_pred[:,1])))\n",
        "print(\"Testing Score:{}\". format(roc_auc_score(y_test, ytest_pred[:,1])))\n",
        "modify_result(\"Decision Tree Classifier\",\n",
        "             accuracy_score(model.predict(X_train), y_train),\n",
        "             accuracy_score(y_test, y_pred))"
      ],
      "execution_count": 104,
      "outputs": [
        {
          "output_type": "stream",
          "text": [
            "Training Score: 0.999993512440043\n",
            "Testing Score:0.731136010947657\n"
          ],
          "name": "stdout"
        }
      ]
    },
    {
      "cell_type": "code",
      "metadata": {
        "colab": {
          "base_uri": "https://localhost:8080/"
        },
        "id": "p2CtVv37GkKT",
        "outputId": "793c9db5-5b17-4711-826b-e2940fe40068"
      },
      "source": [
        "y_pred=model.predict(X_test)\n",
        "print(confusion_matrix(y_test,y_pred))\n",
        "print(accuracy_score(y_test,y_pred))\n",
        "print(classification_report(y_test,y_pred))"
      ],
      "execution_count": 106,
      "outputs": [
        {
          "output_type": "stream",
          "text": [
            "[[186295  66632]\n",
            " [ 69784 183143]]\n",
            "0.7303253507929165\n",
            "              precision    recall  f1-score   support\n",
            "\n",
            "           0       0.73      0.74      0.73    252927\n",
            "           1       0.73      0.72      0.73    252927\n",
            "\n",
            "    accuracy                           0.73    505854\n",
            "   macro avg       0.73      0.73      0.73    505854\n",
            "weighted avg       0.73      0.73      0.73    505854\n",
            "\n"
          ],
          "name": "stdout"
        }
      ]
    },
    {
      "cell_type": "markdown",
      "metadata": {
        "id": "Q1JrUlaA5hqj"
      },
      "source": [
        "## Bagging Classifier"
      ]
    },
    {
      "cell_type": "code",
      "metadata": {
        "colab": {
          "base_uri": "https://localhost:8080/"
        },
        "id": "EHpacwrU8B-b",
        "outputId": "d262b1d6-27b2-403d-cb21-ed82671dd389"
      },
      "source": [
        "from sklearn.model_selection import KFold\n",
        "from sklearn.model_selection import cross_val_score\n",
        "from sklearn.ensemble import BaggingClassifier\n",
        "from sklearn.tree import DecisionTreeClassifier\n",
        "seed = 7\n",
        "kfold = KFold(n_splits=10, random_state=seed)\n",
        "cart = DecisionTreeClassifier()\n",
        "num_trees = 100\n",
        "\n",
        "model1 = BaggingClassifier(base_estimator=cart, n_estimators=num_trees, random_state=seed)\n",
        "model1.fit(X_train,y_train)"
      ],
      "execution_count": 72,
      "outputs": [
        {
          "output_type": "execute_result",
          "data": {
            "text/plain": [
              "BaggingClassifier(base_estimator=DecisionTreeClassifier(ccp_alpha=0.0,\n",
              "                                                        class_weight=None,\n",
              "                                                        criterion='gini',\n",
              "                                                        max_depth=None,\n",
              "                                                        max_features=None,\n",
              "                                                        max_leaf_nodes=None,\n",
              "                                                        min_impurity_decrease=0.0,\n",
              "                                                        min_impurity_split=None,\n",
              "                                                        min_samples_leaf=1,\n",
              "                                                        min_samples_split=2,\n",
              "                                                        min_weight_fraction_leaf=0.0,\n",
              "                                                        presort='deprecated',\n",
              "                                                        random_state=None,\n",
              "                                                        splitter='best'),\n",
              "                  bootstrap=True, bootstrap_features=False, max_features=1.0,\n",
              "                  max_samples=1.0, n_estimators=100, n_jobs=None,\n",
              "                  oob_score=False, random_state=7, verbose=0, warm_start=False)"
            ]
          },
          "metadata": {
            "tags": []
          },
          "execution_count": 72
        }
      ]
    },
    {
      "cell_type": "code",
      "metadata": {
        "colab": {
          "base_uri": "https://localhost:8080/"
        },
        "id": "FnlIa6-v6gC3",
        "outputId": "3620cec8-f628-4bb8-dde3-273efec9a3fa"
      },
      "source": [
        "from sklearn.metrics import accuracy_score, confusion_matrix\n",
        "\n",
        "y_pred = model1.predict(X_test)\n",
        "ytrain_pred = model1.predict_proba(X_train)\n",
        "ytest_pred = model1.predict_proba(X_test)\n",
        "print(\"Training Score: {}\".format(roc_auc_score(y_train, ytrain_pred[:,1])))\n",
        "print(\"Testing Score:{}\". format(roc_auc_score(y_test, ytest_pred[:,1])))\n",
        "modify_result(\"Bagged Decision Tree Classifier\",\n",
        "             accuracy_score(model1.predict(X_train), y_train),\n",
        "             accuracy_score(y_test, y_pred))"
      ],
      "execution_count": 73,
      "outputs": [
        {
          "output_type": "stream",
          "text": [
            "Training Score: 0.9999919220211121\n",
            "Testing Score:0.8248240217835754\n"
          ],
          "name": "stdout"
        }
      ]
    },
    {
      "cell_type": "code",
      "metadata": {
        "colab": {
          "base_uri": "https://localhost:8080/"
        },
        "id": "HvJafQJ7HOxY",
        "outputId": "1bd760dc-9e4a-4451-d150-070258b69b3a"
      },
      "source": [
        "y_pred=model1.predict(X_test)\n",
        "print(confusion_matrix(y_test,y_pred))\n",
        "print(accuracy_score(y_test,y_pred))\n",
        "print(classification_report(y_test,y_pred))"
      ],
      "execution_count": 74,
      "outputs": [
        {
          "output_type": "stream",
          "text": [
            "[[169119  84289]\n",
            " [ 13040 240368]]\n",
            "0.8079598907690365\n",
            "              precision    recall  f1-score   support\n",
            "\n",
            "           0       0.93      0.67      0.78    253408\n",
            "           1       0.74      0.95      0.83    253408\n",
            "\n",
            "    accuracy                           0.81    506816\n",
            "   macro avg       0.83      0.81      0.80    506816\n",
            "weighted avg       0.83      0.81      0.80    506816\n",
            "\n"
          ],
          "name": "stdout"
        }
      ]
    },
    {
      "cell_type": "markdown",
      "metadata": {
        "id": "CUNtd8t05o0y"
      },
      "source": [
        "## SVM"
      ]
    },
    {
      "cell_type": "code",
      "metadata": {
        "id": "-QiU0VSI2iIu",
        "colab": {
          "base_uri": "https://localhost:8080/"
        },
        "outputId": "68b59d7a-8ff3-42a7-b03c-26b174850e8c"
      },
      "source": [
        "#SVM\n",
        "from sklearn import svm\n",
        "\n",
        "from sklearn.svm import SVC\n",
        "from sklearn.model_selection import GridSearchCV\n",
        "from sklearn.model_selection import KFold\n",
        "clff = SVC(probability=True)\n",
        "clff.fit(X_train,y_train)\n",
        "ytrain_pred = clff.predict_proba(X_train)\n",
        "print('Training Score: {}'.format(roc_auc_score(y_train, ytrain_pred[:,1])))\n",
        "ytest_pred = clff.predict_proba(X_test)\n",
        "print('Testing Score: {}'.format(roc_auc_score(y_test, ytest_pred[:,1])))\n",
        "\n",
        "modify_result(\"SVM\",\n",
        "             accuracy_score(clff.predict(X_train), y_train),\n",
        "             accuracy_score(y_test, y_pred))\n"
      ],
      "execution_count": 84,
      "outputs": [
        {
          "output_type": "stream",
          "text": [
            "Training Score: 0.5112282318896646\n",
            "Testing Score: 0.5103042822398558\n"
          ],
          "name": "stdout"
        }
      ]
    },
    {
      "cell_type": "code",
      "metadata": {
        "id": "vXxVZNtlMco9",
        "colab": {
          "base_uri": "https://localhost:8080/"
        },
        "outputId": "6b3df41d-eee3-4711-8aef-454ff973e3e0"
      },
      "source": [
        "y_pred=clff.predict(X_test)\n",
        "print(confusion_matrix(y_test,y_pred))\n",
        "print(accuracy_score(y_test,y_pred))\n",
        "print(classification_report(y_test,y_pred))"
      ],
      "execution_count": 85,
      "outputs": [
        {
          "output_type": "stream",
          "text": [
            "[[819 654]\n",
            " [809 664]]\n",
            "0.5033944331296674\n",
            "              precision    recall  f1-score   support\n",
            "\n",
            "           0       0.50      0.56      0.53      1473\n",
            "           1       0.50      0.45      0.48      1473\n",
            "\n",
            "    accuracy                           0.50      2946\n",
            "   macro avg       0.50      0.50      0.50      2946\n",
            "weighted avg       0.50      0.50      0.50      2946\n",
            "\n"
          ],
          "name": "stdout"
        }
      ]
    },
    {
      "cell_type": "markdown",
      "metadata": {
        "id": "MStmR2qEdri_"
      },
      "source": [
        "### Compare the algorithms"
      ]
    },
    {
      "cell_type": "code",
      "metadata": {
        "id": "DvZKHIaUUQkM",
        "colab": {
          "base_uri": "https://localhost:8080/",
          "height": 373
        },
        "outputId": "692ea075-9406-41ba-dc0c-f4f0e8d68beb"
      },
      "source": [
        "data=pd.DataFrame(result_df)\n",
        "data.sort_values(['testing_score'],ascending=False)"
      ],
      "execution_count": 86,
      "outputs": [
        {
          "output_type": "execute_result",
          "data": {
            "text/html": [
              "<div>\n",
              "<style scoped>\n",
              "    .dataframe tbody tr th:only-of-type {\n",
              "        vertical-align: middle;\n",
              "    }\n",
              "\n",
              "    .dataframe tbody tr th {\n",
              "        vertical-align: top;\n",
              "    }\n",
              "\n",
              "    .dataframe thead th {\n",
              "        text-align: right;\n",
              "    }\n",
              "</style>\n",
              "<table border=\"1\" class=\"dataframe\">\n",
              "  <thead>\n",
              "    <tr style=\"text-align: right;\">\n",
              "      <th></th>\n",
              "      <th>model</th>\n",
              "      <th>training_score</th>\n",
              "      <th>testing_score</th>\n",
              "    </tr>\n",
              "  </thead>\n",
              "  <tbody>\n",
              "    <tr>\n",
              "      <th>1</th>\n",
              "      <td>XGBoost</td>\n",
              "      <td>0.824764</td>\n",
              "      <td>0.827259</td>\n",
              "    </tr>\n",
              "    <tr>\n",
              "      <th>0</th>\n",
              "      <td>Random forest classifier</td>\n",
              "      <td>0.867273</td>\n",
              "      <td>0.820688</td>\n",
              "    </tr>\n",
              "    <tr>\n",
              "      <th>9</th>\n",
              "      <td>Bagged Decision Tree Classifier</td>\n",
              "      <td>0.998181</td>\n",
              "      <td>0.807960</td>\n",
              "    </tr>\n",
              "    <tr>\n",
              "      <th>3</th>\n",
              "      <td>Easy Ensemble Classifier</td>\n",
              "      <td>0.796539</td>\n",
              "      <td>0.799187</td>\n",
              "    </tr>\n",
              "    <tr>\n",
              "      <th>2</th>\n",
              "      <td>Gradient Boosting</td>\n",
              "      <td>0.772443</td>\n",
              "      <td>0.775356</td>\n",
              "    </tr>\n",
              "    <tr>\n",
              "      <th>5</th>\n",
              "      <td>Adaboost classifier</td>\n",
              "      <td>0.755410</td>\n",
              "      <td>0.758299</td>\n",
              "    </tr>\n",
              "    <tr>\n",
              "      <th>8</th>\n",
              "      <td>Decision Tree Classifier</td>\n",
              "      <td>0.998189</td>\n",
              "      <td>0.729959</td>\n",
              "    </tr>\n",
              "    <tr>\n",
              "      <th>4</th>\n",
              "      <td>Guassian Naive Bayes</td>\n",
              "      <td>0.525014</td>\n",
              "      <td>0.527353</td>\n",
              "    </tr>\n",
              "    <tr>\n",
              "      <th>7</th>\n",
              "      <td>KNN</td>\n",
              "      <td>0.804208</td>\n",
              "      <td>0.503577</td>\n",
              "    </tr>\n",
              "    <tr>\n",
              "      <th>10</th>\n",
              "      <td>SVM</td>\n",
              "      <td>0.506200</td>\n",
              "      <td>0.503394</td>\n",
              "    </tr>\n",
              "    <tr>\n",
              "      <th>6</th>\n",
              "      <td>Logistic Regression</td>\n",
              "      <td>0.501276</td>\n",
              "      <td>0.500580</td>\n",
              "    </tr>\n",
              "  </tbody>\n",
              "</table>\n",
              "</div>"
            ],
            "text/plain": [
              "                              model  training_score  testing_score\n",
              "1                           XGBoost        0.824764       0.827259\n",
              "0          Random forest classifier        0.867273       0.820688\n",
              "9   Bagged Decision Tree Classifier        0.998181       0.807960\n",
              "3          Easy Ensemble Classifier        0.796539       0.799187\n",
              "2                 Gradient Boosting        0.772443       0.775356\n",
              "5               Adaboost classifier        0.755410       0.758299\n",
              "8          Decision Tree Classifier        0.998189       0.729959\n",
              "4              Guassian Naive Bayes        0.525014       0.527353\n",
              "7                               KNN        0.804208       0.503577\n",
              "10                              SVM        0.506200       0.503394\n",
              "6               Logistic Regression        0.501276       0.500580"
            ]
          },
          "metadata": {
            "tags": []
          },
          "execution_count": 86
        }
      ]
    },
    {
      "cell_type": "code",
      "metadata": {
        "colab": {
          "base_uri": "https://localhost:8080/",
          "height": 692
        },
        "id": "kued7Yp_amEC",
        "outputId": "beddbf4e-d7b8-4d15-f6f6-a6b52d3a508e"
      },
      "source": [
        "data = pd.DataFrame(result_df)\n",
        "data.sort_values(by=\"testing_score\", ascending=False).plot(kind=\"bar\", x=\"model\", rot=45, figsize=(16,9),color=[\"lightskyblue\",\"royalblue\"])\n",
        "plt.title(\"Model Performances\")\n",
        "plt.ylabel=(\"Accuracy Score\")\n",
        "plt.xlabel=(\"Models\")\n",
        "plt.legend([\"Train Score\",\"Test Score\"])"
      ],
      "execution_count": 87,
      "outputs": [
        {
          "output_type": "execute_result",
          "data": {
            "text/plain": [
              "<matplotlib.legend.Legend at 0x7f4f13179210>"
            ]
          },
          "metadata": {
            "tags": []
          },
          "execution_count": 87
        },
        {
          "output_type": "display_data",
          "data": {
            "image/png": "[encoded data removed]",
            "text/plain": [
              "<Figure size 1152x648 with 1 Axes>"
            ]
          },
          "metadata": {
            "tags": [],
            "needs_background": "light"
          }
        }
      ]
    },
    {
      "cell_type": "markdown",
      "metadata": {
        "id": "mLiYGXk-4gek"
      },
      "source": [
        "## Finalize Model"
      ]
    },
    {
      "cell_type": "code",
      "metadata": {
        "colab": {
          "base_uri": "https://localhost:8080/"
        },
        "id": "dztyIgdN4mjB",
        "outputId": "b1ae7ea6-04af-475d-b80d-caa4a83144b9"
      },
      "source": [
        "from sklearn.ensemble import RandomForestClassifier\n",
        "classifier=RandomForestClassifier(n_estimators=20,max_features=8,min_samples_leaf=6,min_samples_split=5,n_jobs=-1)\n",
        "classifier.fit(X_train,y_train)"
      ],
      "execution_count": null,
      "outputs": [
        {
          "output_type": "execute_result",
          "data": {
            "text/plain": [
              "RandomForestClassifier(bootstrap=True, ccp_alpha=0.0, class_weight=None,\n",
              "                       criterion='gini', max_depth=None, max_features=8,\n",
              "                       max_leaf_nodes=None, max_samples=None,\n",
              "                       min_impurity_decrease=0.0, min_impurity_split=None,\n",
              "                       min_samples_leaf=6, min_samples_split=5,\n",
              "                       min_weight_fraction_leaf=0.0, n_estimators=20, n_jobs=-1,\n",
              "                       oob_score=False, random_state=None, verbose=0,\n",
              "                       warm_start=False)"
            ]
          },
          "metadata": {
            "tags": []
          },
          "execution_count": 73
        }
      ]
    },
    {
      "cell_type": "code",
      "metadata": {
        "colab": {
          "base_uri": "https://localhost:8080/"
        },
        "id": "3nYUehSO41JB",
        "outputId": "a707ca59-e3cc-4076-d179-8e9f0c4a8dab"
      },
      "source": [
        "y_pred=classifier.predict(X_test)\n",
        "print(confusion_matrix(y_test,y_pred))\n",
        "print(accuracy_score(y_test,y_pred))\n",
        "print(classification_report(y_test,y_pred))"
      ],
      "execution_count": null,
      "outputs": [
        {
          "output_type": "stream",
          "text": [
            "[[166031  87092]\n",
            " [  3943 249180]]\n",
            "0.8201763569489932\n",
            "              precision    recall  f1-score   support\n",
            "\n",
            "           0       0.98      0.66      0.78    253123\n",
            "           1       0.74      0.98      0.85    253123\n",
            "\n",
            "    accuracy                           0.82    506246\n",
            "   macro avg       0.86      0.82      0.82    506246\n",
            "weighted avg       0.86      0.82      0.82    506246\n",
            "\n"
          ],
          "name": "stdout"
        }
      ]
    },
    {
      "cell_type": "markdown",
      "metadata": {
        "id": "4yMFG-JeUuJp"
      },
      "source": [
        "## Best Thresholds and ROC Curve"
      ]
    },
    {
      "cell_type": "code",
      "metadata": {
        "colab": {
          "base_uri": "https://localhost:8080/"
        },
        "id": "BhjoWErA6YZ9",
        "outputId": "d1252827-2031-473b-a79c-7178d75212e1"
      },
      "source": [
        "pred=[]\n",
        "for model in [clf]:\n",
        "    pred.append(pd.Series(model.predict_proba(X_test)[:,1]))\n",
        "final_prediction=pd.concat(pred,axis=1).mean(axis=1)\n",
        "print('Ensemble test roc-auc: {}'.format(roc_auc_score(y_test,final_prediction)))"
      ],
      "execution_count": null,
      "outputs": [
        {
          "output_type": "stream",
          "text": [
            "Ensemble test roc-auc: 0.8316070831032812\n"
          ],
          "name": "stdout"
        }
      ]
    },
    {
      "cell_type": "code",
      "metadata": {
        "colab": {
          "base_uri": "https://localhost:8080/"
        },
        "id": "yyD-VyKi6Ydn",
        "outputId": "6196af15-1a77-4317-daab-1ee2d2f7ce4f"
      },
      "source": [
        "fpr, tpr, thresholds = roc_curve(y_test, final_prediction)\n",
        "thresholds"
      ],
      "execution_count": null,
      "outputs": [
        {
          "output_type": "execute_result",
          "data": {
            "text/plain": [
              "array([1.8353230e+00, 8.3532298e-01, 8.1541800e-01, ..., 5.1719766e-08,\n",
              "       5.1392998e-08, 8.4839415e-09], dtype=float32)"
            ]
          },
          "metadata": {
            "tags": []
          },
          "execution_count": 58
        }
      ]
    },
    {
      "cell_type": "code",
      "metadata": {
        "id": "DD0WxLL_6YhX",
        "colab": {
          "base_uri": "https://localhost:8080/",
          "height": 195
        },
        "outputId": "0b00b1d2-442a-4fe4-8d99-4e22ff8e03ef"
      },
      "source": [
        "from sklearn.metrics import accuracy_score\n",
        "accuracy_ls = []\n",
        "for thres in thresholds:\n",
        "    y_pred = np.where(final_prediction>thres,1,0)\n",
        "    accuracy_ls.append(accuracy_score(y_test, y_pred, normalize=True))\n",
        "    \n",
        "accuracy_ls = pd.concat([pd.Series(thresholds), pd.Series(accuracy_ls)], axis=1)\n",
        "accuracy_ls.columns = ['thresholds', 'accuracy']\n",
        "accuracy_ls.sort_values(by='accuracy', ascending=False, inplace=True)\n",
        "accuracy_ls.head()"
      ],
      "execution_count": null,
      "outputs": [
        {
          "output_type": "execute_result",
          "data": {
            "text/html": [
              "<div>\n",
              "<style scoped>\n",
              "    .dataframe tbody tr th:only-of-type {\n",
              "        vertical-align: middle;\n",
              "    }\n",
              "\n",
              "    .dataframe tbody tr th {\n",
              "        vertical-align: top;\n",
              "    }\n",
              "\n",
              "    .dataframe thead th {\n",
              "        text-align: right;\n",
              "    }\n",
              "</style>\n",
              "<table border=\"1\" class=\"dataframe\">\n",
              "  <thead>\n",
              "    <tr style=\"text-align: right;\">\n",
              "      <th></th>\n",
              "      <th>thresholds</th>\n",
              "      <th>accuracy</th>\n",
              "    </tr>\n",
              "  </thead>\n",
              "  <tbody>\n",
              "    <tr>\n",
              "      <th>146641</th>\n",
              "      <td>0.579066</td>\n",
              "      <td>0.826810</td>\n",
              "    </tr>\n",
              "    <tr>\n",
              "      <th>146635</th>\n",
              "      <td>0.579694</td>\n",
              "      <td>0.826810</td>\n",
              "    </tr>\n",
              "    <tr>\n",
              "      <th>146634</th>\n",
              "      <td>0.579782</td>\n",
              "      <td>0.826810</td>\n",
              "    </tr>\n",
              "    <tr>\n",
              "      <th>146636</th>\n",
              "      <td>0.579590</td>\n",
              "      <td>0.826808</td>\n",
              "    </tr>\n",
              "    <tr>\n",
              "      <th>146639</th>\n",
              "      <td>0.579381</td>\n",
              "      <td>0.826808</td>\n",
              "    </tr>\n",
              "  </tbody>\n",
              "</table>\n",
              "</div>"
            ],
            "text/plain": [
              "        thresholds  accuracy\n",
              "146641    0.579066  0.826810\n",
              "146635    0.579694  0.826810\n",
              "146634    0.579782  0.826810\n",
              "146636    0.579590  0.826808\n",
              "146639    0.579381  0.826808"
            ]
          },
          "metadata": {
            "tags": []
          },
          "execution_count": 59
        }
      ]
    },
    {
      "cell_type": "code",
      "metadata": {
        "id": "S-qgIJ6F6Yku"
      },
      "source": [
        "def plot_roc_curve(fpr, tpr):\n",
        "    plt.plot(fpr, tpr, color='orange', label='ROC')\n",
        "    plt.plot([0, 1], [0, 1], color='darkblue', linestyle='--')\n",
        "    \n",
        "    plt.xlabel('False Positive Rate')\n",
        "    plt.ylabel('True Positive Rate')\n",
        "    plt.title('Receiver Operating Characteristic (ROC) Curve')\n",
        "    plt.legend()\n",
        "    plt.show()"
      ],
      "execution_count": null,
      "outputs": []
    },
    {
      "cell_type": "code",
      "metadata": {
        "colab": {
          "base_uri": "https://localhost:8080/",
          "height": 295
        },
        "id": "lUF3BOef6YoD",
        "outputId": "1fad5696-d937-41a9-a2d6-510ce53bdd86"
      },
      "source": [
        "plot_roc_curve(fpr,tpr)"
      ],
      "execution_count": null,
      "outputs": [
        {
          "output_type": "display_data",
          "data": {
            "image/png": "[encoded data removed]",
            "text/plain": [
              "<Figure size 432x288 with 1 Axes>"
            ]
          },
          "metadata": {
            "tags": [],
            "needs_background": "light"
          }
        }
      ]
    },
    {
      "cell_type": "markdown",
      "metadata": {
        "id": "YmjXKxfD7NSu"
      },
      "source": [
        "## Training Model on Complete Dataset"
      ]
    },
    {
      "cell_type": "code",
      "metadata": {
        "id": "uQknhAK07Zww"
      },
      "source": [
        "from imblearn.over_sampling import SMOTE\n",
        "smote=SMOTE()\n",
        "x_train_os, y_train_os = smote.fit_resample(X, y)"
      ],
      "execution_count": null,
      "outputs": []
    },
    {
      "cell_type": "code",
      "metadata": {
        "colab": {
          "base_uri": "https://localhost:8080/"
        },
        "id": "JFRbGDzOF8Ga",
        "outputId": "659fa8c5-213d-4fce-cf02-7ee7ca467c0e"
      },
      "source": [
        "from collections import Counter\n",
        "print('Original dataset shape {}'.format(Counter(y)))\n",
        "print('Resampled dataset shape {}'.format(Counter(y_train_os)))"
      ],
      "execution_count": null,
      "outputs": [
        {
          "output_type": "stream",
          "text": [
            "Original dataset shape Counter({1: 766794, 0: 257640})\n",
            "Resampled dataset shape Counter({1: 766794, 0: 766794})\n"
          ],
          "name": "stdout"
        }
      ]
    },
    {
      "cell_type": "code",
      "metadata": {
        "colab": {
          "base_uri": "https://localhost:8080/"
        },
        "id": "EPB157eOHrDo",
        "outputId": "dea16b23-f116-4c7b-e3c1-023703b4d55c"
      },
      "source": [
        "import xgboost \n",
        "from xgboost import XGBClassifier\n",
        "clf =XGBClassifier(base_score=0.5, booster='dart', colsample_bylevel=1,\n",
        "              colsample_bynode=1, colsample_bytree=1, gamma=0,eval_metric='auc',\n",
        "              learning_rate=0.1, max_delta_step=0, max_depth=3,\n",
        "              min_child_weight=0, missing=None, n_estimators=300, n_jobs=1,\n",
        "              nthread=None, objective='binary:logistic', random_state=100,\n",
        "              reg_alpha=0, reg_lambda=1, scale_pos_weight=1, seed=10,\n",
        "              silent=None, subsample=1, verbosity=1)\n",
        "clf.fit(x_train_os, y_train_os)"
      ],
      "execution_count": null,
      "outputs": [
        {
          "output_type": "execute_result",
          "data": {
            "text/plain": [
              "XGBClassifier(base_score=0.5, booster='dart', colsample_bylevel=1,\n",
              "              colsample_bynode=1, colsample_bytree=1, eval_metric='auc',\n",
              "              gamma=0, learning_rate=0.1, max_delta_step=0, max_depth=3,\n",
              "              min_child_weight=0, missing=None, n_estimators=300, n_jobs=1,\n",
              "              nthread=None, objective='binary:logistic', random_state=100,\n",
              "              reg_alpha=0, reg_lambda=1, scale_pos_weight=1, seed=10,\n",
              "              silent=None, subsample=1, verbosity=1)"
            ]
          },
          "metadata": {
            "tags": []
          },
          "execution_count": 37
        }
      ]
    },
    {
      "cell_type": "markdown",
      "metadata": {
        "id": "LMMoI41DBDNe"
      },
      "source": [
        "### Overall Accuracy"
      ]
    },
    {
      "cell_type": "code",
      "metadata": {
        "colab": {
          "base_uri": "https://localhost:8080/"
        },
        "id": "1F7x2OzfHrG6",
        "outputId": "60c01500-406f-42ea-cdb7-eeccc797cf6c"
      },
      "source": [
        "#overall Accuracy\n",
        "pred=clf.predict(x_train_os)\n",
        "print(confusion_matrix(y_train_os, pred))\n",
        "print(classification_report(y_train_os,pred))"
      ],
      "execution_count": null,
      "outputs": [
        {
          "output_type": "stream",
          "text": [
            "[[498352 268442]\n",
            " [    32 766762]]\n",
            "              precision    recall  f1-score   support\n",
            "\n",
            "           0       1.00      0.65      0.79    766794\n",
            "           1       0.74      1.00      0.85    766794\n",
            "\n",
            "    accuracy                           0.82   1533588\n",
            "   macro avg       0.87      0.82      0.82   1533588\n",
            "weighted avg       0.87      0.82      0.82   1533588\n",
            "\n"
          ],
          "name": "stdout"
        }
      ]
    },
    {
      "cell_type": "markdown",
      "metadata": {
        "id": "wo1f37EKdriz"
      },
      "source": [
        "## Model Saving "
      ]
    },
    {
      "cell_type": "code",
      "metadata": {
        "id": "ED9v8Y-85MkS"
      },
      "source": [
        "import pickle\n",
        "with open('model_final','wb') as f:\n",
        " pickle.dump(classifier,f)"
      ],
      "execution_count": null,
      "outputs": []
    }
  ]
}